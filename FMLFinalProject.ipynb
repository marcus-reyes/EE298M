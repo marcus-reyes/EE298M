{
 "cells": [
  {
   "cell_type": "markdown",
   "metadata": {},
   "source": [
    "# Reyes, Marcus  2015-89006 EE 298 M-MOZQ\n",
    "\n",
    "# January 2021\n",
    "\n",
    "# Final Project EE 298 M"
   ]
  },
  {
   "cell_type": "code",
   "execution_count": 1,
   "metadata": {},
   "outputs": [
    {
     "name": "stdout",
     "output_type": "stream",
     "text": [
      "C:\\Users\\Marcus\\197_proj1\\EE298M\n"
     ]
    }
   ],
   "source": [
    "import os\n",
    "import numpy as np\n",
    "from scipy import linalg as la\n",
    "from sklearn.metrics import mean_squared_error\n",
    "from sklearn import mixture\n",
    "from sklearn.decomposition import PCA\n",
    "from scipy.stats import multivariate_normal\n",
    "import matplotlib.pyplot as plt\n",
    "\n",
    "import time\n",
    "\n",
    "print(os.getcwd())"
   ]
  },
  {
   "cell_type": "code",
   "execution_count": 2,
   "metadata": {},
   "outputs": [],
   "source": [
    "#https://github.com/mttk/STL10/blob/master/stl10_input.py\n",
    "\n",
    "def read_labels(path_to_labels):\n",
    "    \"\"\"\n",
    "    :param path_to_labels: path to the binary file containing labels from the STL-10 dataset\n",
    "    :return: an array containing the labels\n",
    "    \"\"\"\n",
    "    with open(path_to_labels, 'rb') as f:\n",
    "        labels = np.fromfile(f, dtype=np.uint8)\n",
    "        return labels\n",
    "\n",
    "def read_all_images(path_to_data):\n",
    "    \"\"\"\n",
    "    :param path_to_data: the file containing the binary images from the STL-10 dataset\n",
    "    :return: an array containing all the images\n",
    "    \"\"\"\n",
    "\n",
    "    with open(path_to_data, 'rb') as f:\n",
    "        # read whole file in uint8 chunks\n",
    "        everything = np.fromfile(f, dtype=np.uint8)\n",
    "\n",
    "        # We force the data into 3x96x96 chunks, since the\n",
    "        # images are stored in \"column-major order\", meaning\n",
    "        # that \"the first 96*96 values are the red channel,\n",
    "        # the next 96*96 are green, and the last are blue.\"\n",
    "        # The -1 is since the size of the pictures depends\n",
    "        # on the input file, and this way numpy determines\n",
    "        # the size on its own.\n",
    "\n",
    "        images = np.reshape(everything, (-1, 3, 96, 96))\n",
    "\n",
    "        # Now transpose the images into a standard image format\n",
    "        # readable by, for example, matplotlib.imshow\n",
    "        # You might want to comment this line or reverse the shuffle\n",
    "        # if you will use a learning algorithm like CNN, since they like\n",
    "        # their channels separated.\n",
    "        images = np.transpose(images, (0, 3, 2, 1))\n",
    "        return images"
   ]
  },
  {
   "cell_type": "code",
   "execution_count": 3,
   "metadata": {},
   "outputs": [],
   "source": [
    "#Utility codes for processing data\n",
    "\n",
    "def get_z_codes(optim_z_dim, dataset, B_list):\n",
    "    z_codes_list = []\n",
    "    for i in range(3):\n",
    "        B_m = B_list[i][:,:optim_z_dim].copy()\n",
    "        z_codes_list.append(np.matmul(dataset[i].copy(), B_m).copy())\n",
    "\n",
    "\n",
    "    z_codes_uni = np.concatenate((z_codes_list[0],z_codes_list[1],z_codes_list[2]), axis = 1)\n",
    "    return z_codes_uni\n",
    "\n",
    "def resize_and_split_data(dataset, train_stride, resize_hw, channels, means_and_stds):\n",
    "    dataset = np.float32(dataset)\n",
    "    dataset /= 255\n",
    "    dataset = dataset[:,::train_stride,::train_stride,:]\n",
    "    \n",
    "\n",
    "    dataset[:,:,:,0] -= train_mean_0\n",
    "    dataset[:,:,:,1] -= train_mean_1\n",
    "    dataset[:,:,:,2] -= train_mean_2\n",
    "    dataset[:,:,:,0] /= train_std_0\n",
    "    dataset[:,:,:,1] /= train_std_1\n",
    "    dataset[:,:,:,2] /= train_std_2\n",
    "    X = np.reshape(dataset, (-1, resize_hw*resize_hw*channels))\n",
    "\n",
    "    X_list = []\n",
    "    for i in range(channels):\n",
    "        X_list.append(np.reshape(dataset[:,:,:,i].copy(), (-1,resize_hw*resize_hw*1)))\n",
    "    return X_list"
   ]
  },
  {
   "cell_type": "code",
   "execution_count": 4,
   "metadata": {},
   "outputs": [],
   "source": [
    "#Replace with corresponding directories \n",
    "train_path = 'stl10_binary/train_X.bin'\n",
    "train_label_path = 'stl10_binary/train_Y.bin'\n",
    "test_path = 'stl10_binary/test_X.bin'\n",
    "test_label_path = 'stl10_binary/test_Y.bin'\n",
    "unlab_path = 'stl10_binary/unlabeled_X.bin'"
   ]
  },
  {
   "cell_type": "code",
   "execution_count": 5,
   "metadata": {},
   "outputs": [
    {
     "name": "stdout",
     "output_type": "stream",
     "text": [
      "(10000, 96, 96, 3)\n",
      "(10000, 32, 32, 3)\n",
      "255 0\n",
      "Time elapsed loading datasets 6.742977619171143\n"
     ]
    }
   ],
   "source": [
    "start = time.time()\n",
    "train_im = read_all_images(unlab_path)\n",
    "train_im = train_im[0:10000]\n",
    "\n",
    "#So I don't have to keep reloading the dataset if I mess up\n",
    "backup_im = train_im.copy()\n",
    "print(train_im.shape)\n",
    "\n",
    "#Stride of 3\n",
    "train_stride = 3\n",
    "#Resulting height and width. (I.e. stride of 2 will results in a height and width of 48)\n",
    "resize_hw = 32\n",
    "train_im = train_im[:,::train_stride,::train_stride,:]\n",
    "orig_im = train_im.copy()\n",
    "#unlab_im = read_all_images(unlab_path)\n",
    "print(train_im.shape)\n",
    "print(train_im.max(), train_im.min())\n",
    "print(\"Time elapsed loading datasets\", time.time()-start)"
   ]
  },
  {
   "cell_type": "markdown",
   "metadata": {},
   "source": [
    "# Sample Images\n",
    "\n",
    "Load some sample images for reference on how the resized dataset looks like"
   ]
  },
  {
   "cell_type": "code",
   "execution_count": 6,
   "metadata": {},
   "outputs": [
    {
     "data": {
      "image/png": "[encoded data removed]",
      "text/plain": [
       "<Figure size 720x720 with 9 Axes>"
      ]
     },
     "metadata": {},
     "output_type": "display_data"
    }
   ],
   "source": [
    "f, axarr = plt.subplots(3,3, figsize = (10,10))\n",
    "for i,ax in enumerate(axarr.ravel()):\n",
    "    ax.imshow(train_im[i])\n",
    "    ax.set_xticks([])\n",
    "    ax.set_yticks([])\n",
    "plt.show()"
   ]
  },
  {
   "cell_type": "markdown",
   "metadata": {},
   "source": [
    "# Part 1 (PCA)\n"
   ]
  },
  {
   "cell_type": "markdown",
   "metadata": {},
   "source": [
    "## Perform Data Centering per channel\n",
    "Given dataset X = $[x_1, x_2, ..., x_n]$, where each $x_i$ is a datapoint with three channels perform data centering and then divide by the standard deviation per channel\n",
    "\n",
    "So \n",
    "\n",
    "$x_{i, channel j} = x_{i, channel j} - \\mu_{i, channel j}$\n",
    "\n",
    "$x_{i, channel j} = \\frac{x_{i, channel j}}{\\sigma_{i, channel j}}$\n",
    "\n",
    "Remember to normalize the data from 0 to 1 before doing mean and standard deviation calculations\n"
   ]
  },
  {
   "cell_type": "code",
   "execution_count": 7,
   "metadata": {},
   "outputs": [
    {
     "name": "stdout",
     "output_type": "stream",
     "text": [
      "255.0 0.0\n",
      "1.0 0.0\n",
      "(10000, 32, 32, 3)\n",
      "Make sure this was not run multiple times. Ensure that min max is 0 and 1\n"
     ]
    }
   ],
   "source": [
    "\n",
    "#Deprecated flag. Should always be true. Left here for not per channel experimentation purposes\n",
    "per_channel = True\n",
    "\n",
    "\n",
    "train_im = np.float32(train_im)\n",
    "print(train_im.max(), train_im.min())\n",
    "train_im /= 255\n",
    "print(train_im.max(), train_im.min())\n",
    "if per_channel:\n",
    "    train_mean_0 = np.mean(train_im[:,:,:,0])\n",
    "    train_mean_1 = np.mean(train_im[:,:,:,1])\n",
    "    train_mean_2 = np.mean(train_im[:,:,:,2])\n",
    "    train_im[:,:,:,0] -= train_mean_0\n",
    "    train_im[:,:,:,1] -= train_mean_1\n",
    "    train_im[:,:,:,2] -= train_mean_2\n",
    "    train_std_0 = np.std(train_im[:,:,:,0])\n",
    "    train_std_1 = np.std(train_im[:,:,:,1])\n",
    "    train_std_2 = np.std(train_im[:,:,:,2])\n",
    "    train_im[:,:,:,0] /= train_std_0\n",
    "    train_im[:,:,:,1] /= train_std_1\n",
    "    train_im[:,:,:,2] /= train_std_2\n",
    "else:\n",
    "    train_mean = np.mean(train_im)\n",
    "    train_std = np.std(train_im)\n",
    "    train_im -= train_mean\n",
    "    train_im /= train_std\n",
    "print(train_im.shape)\n",
    "print(\"Make sure this was not run multiple times. Ensure that min max is 0 and 1\")"
   ]
  },
  {
   "cell_type": "markdown",
   "metadata": {},
   "source": [
    "## Reshape the dataset for calculation purposes\n",
    "## Reextract to make sure reshaping was done properly"
   ]
  },
  {
   "cell_type": "code",
   "execution_count": 8,
   "metadata": {},
   "outputs": [
    {
     "name": "stdout",
     "output_type": "stream",
     "text": [
      "Sanity check that the dataset was reshaped properly\n",
      "(10000, 1024)\n"
     ]
    },
    {
     "name": "stderr",
     "output_type": "stream",
     "text": [
      "Clipping input data to the valid range for imshow with RGB data ([0..1] for floats or [0..255] for integers).\n"
     ]
    },
    {
     "name": "stdout",
     "output_type": "stream",
     "text": [
      "(10000, 32, 32, 3)\n"
     ]
    },
    {
     "data": {
      "image/png": "[encoded data removed]",
      "text/plain": [
       "<Figure size 432x288 with 1 Axes>"
      ]
     },
     "metadata": {
      "needs_background": "light"
     },
     "output_type": "display_data"
    },
    {
     "name": "stdout",
     "output_type": "stream",
     "text": [
      "-1.6265266 2.266017\n",
      "Note the contrast will be off as I have done mean subtraction and division by standard deviation\n"
     ]
    }
   ],
   "source": [
    "n_im = train_im.shape[0]\n",
    "og_shape = train_im.shape\n",
    "X = np.reshape(train_im, (-1, resize_hw*resize_hw*3))\n",
    "print(\"Sanity check that the dataset was reshaped properly\")\n",
    "\n",
    "X_list = []\n",
    "for i in range(3):\n",
    "    X_list.append(np.reshape(train_im[:,:,:,i].copy(), (-1,resize_hw*resize_hw*1)))\n",
    "print(X_list[0].shape)\n",
    "\n",
    "extract = np.concatenate((X_list[0].reshape(-1,resize_hw,resize_hw,1),X_list[1].reshape(-1,resize_hw,resize_hw,1),X_list[2].reshape(-1,resize_hw,resize_hw,1)),axis = 3)\n",
    "print(extract.shape)\n",
    "plt.imshow(np.reshape(extract[0],(resize_hw,resize_hw,3)))\n",
    "plt.show()\n",
    "print(extract[0].min(), extract[0].max())\n",
    "print(\"Note the contrast will be off as I have done mean subtraction and division by standard deviation\")\n",
    "    "
   ]
  },
  {
   "cell_type": "markdown",
   "metadata": {},
   "source": [
    "# Obtain the covariance matrix\n",
    "$S = \\frac{XX^T}{N}$\n",
    "\n",
    "## Decompose the covariance matrix\n",
    "$S = \\frac{XX^T}{N} = DBD^{-1}$\n",
    "\n",
    "where D are eigenvalues and B are eigenvectors\n",
    "\n",
    "Note that PCA will be done per channel."
   ]
  },
  {
   "cell_type": "markdown",
   "metadata": {},
   "source": [
    "\n",
    "### One PCA per channel will results in three covariance matrices"
   ]
  },
  {
   "cell_type": "code",
   "execution_count": 9,
   "metadata": {},
   "outputs": [
    {
     "name": "stdout",
     "output_type": "stream",
     "text": [
      "(10000, 1024)\n",
      "Done obtaining S\n",
      "3\n",
      "(1024, 1024)\n"
     ]
    }
   ],
   "source": [
    "#Covariance Matrices\n",
    "print(X_list[0].shape)\n",
    "S_list = [np.matmul(np.transpose(X_list[i]), X_list[i])/n_im for i in range(3)]\n",
    "\n",
    "print(\"Done obtaining S\")\n",
    "print(len(S_list))\n",
    "print(S_list[0].shape)\n"
   ]
  },
  {
   "cell_type": "code",
   "execution_count": 10,
   "metadata": {},
   "outputs": [
    {
     "name": "stdout",
     "output_type": "stream",
     "text": [
      "Done obtaining eigenvectors\n"
     ]
    }
   ],
   "source": [
    "#Obtain eigenvectors\n",
    "D_list = []\n",
    "B_list = []\n",
    "for i, S in enumerate(S_list):\n",
    "    D,B = la.eig(S, left = True, right = False)\n",
    "    #Necessary due to numpy's numerical inaccuracies sometimes producing imaginary components\n",
    "    #https://stackoverflow.com/questions/8765310/scipy-linalg-eig-return-complex-eigenvalues-for-covariance-matrix\n",
    "    D_list.append(np.real(D))\n",
    "    B_list.append(np.real(B))\n",
    "\n",
    "print(\"Done obtaining eigenvectors\")"
   ]
  },
  {
   "cell_type": "markdown",
   "metadata": {},
   "source": [
    "# Reconstruction\n",
    "By taking only the first M principal components we obtain different levels of reconstruction\n",
    "\n",
    "We thus set $B_m = B[0:M]$ and obtain the reconstruction as follows (in this particular case the reconstruction of the R channel)\n",
    "\n",
    "$X_{reconstructed, R} = B_mB_{m}^{T}X_{orig}$\n",
    "\n",
    "$X_{final, R} = \\frac{X_{reconstructed} + \\mu}{\\sigma}$\n",
    "\n",
    "\n",
    "Then we project back by adding the mean and multiplying by the standard deviation obtained above. Note that this is still done per channel.\n",
    "\n",
    "Thus the final RGB reconstruction will be \n",
    "\n",
    "\n",
    "$X_{final, RGB} = np.stack(X_{final, R}, X_{final, G}, X_{final, B})$"
   ]
  },
  {
   "cell_type": "markdown",
   "metadata": {},
   "source": [
    "## Load the test dataset for reconstruction"
   ]
  },
  {
   "cell_type": "code",
   "execution_count": 11,
   "metadata": {},
   "outputs": [
    {
     "name": "stdout",
     "output_type": "stream",
     "text": [
      "0.0 1.0\n",
      "(8000, 32, 32, 3)\n",
      "(8000, 1024)\n"
     ]
    }
   ],
   "source": [
    "test_path = 'stl10_binary/test_X.bin'\n",
    "test_stride = train_stride\n",
    "test_im = read_all_images(test_path)\n",
    "test_im = test_im[:,::test_stride,::test_stride,:]\n",
    "\n",
    "test_im = np.float32(test_im)\n",
    "\n",
    "test_im /= 255\n",
    "orig_test = test_im.copy()\n",
    "\n",
    "print(test_im.min(), test_im.max())\n",
    "if per_channel:\n",
    "    test_im[:,:,:,0] -= train_mean_0\n",
    "    test_im[:,:,:,1] -= train_mean_1\n",
    "    test_im[:,:,:,2] -= train_mean_2\n",
    "    test_im[:,:,:,0] /= train_std_0\n",
    "    test_im[:,:,:,1] /= train_std_1\n",
    "    test_im[:,:,:,2] /= train_std_2\n",
    "\n",
    "print(test_im.shape)\n",
    "n_test_im = test_im.shape[0]\n",
    "\n",
    "X_test_list = []\n",
    "for i in range(3):\n",
    "    X_test_list.append(np.reshape(test_im[:,:,:,i], (-1,resize_hw*resize_hw*1)))\n",
    "print(X_test_list[0].shape)\n"
   ]
  },
  {
   "cell_type": "code",
   "execution_count": 12,
   "metadata": {},
   "outputs": [
    {
     "name": "stdout",
     "output_type": "stream",
     "text": [
      "Processing dim 32\n",
      "Processing dim 64\n",
      "Processing dim 128\n",
      "Processing dim 256\n",
      "Processing dim 512\n",
      "Processing dim 1024\n",
      "Processing dim 2048\n",
      "Processing dim 4096\n"
     ]
    }
   ],
   "source": [
    "#Note that I used powers of 2 for the dim. I suspect the dim_list given by sir had typos\n",
    "dim_list = [32,64,128,256,512,1024,2048,4096]\n",
    "\n",
    "mse_list = []\n",
    "mse_list2 = []\n",
    "dim_vs_photo_list = []\n",
    "dim_vs_photo_list2 = []\n",
    "for i in range(len(dim_list)):\n",
    "    print(\"Processing dim\", dim_list[i])\n",
    "    \n",
    "    R_list = []\n",
    "    R2_list = []\n",
    "    for j in range(3):\n",
    "        B_m = B_list[j][:,:dim_list[i]].copy()\n",
    "        B_mB_mt = np.matmul(B_m, np.transpose(B_m))\n",
    "        R_list.append(np.matmul(X_test_list[j].copy(), B_mB_mt))\n",
    "        R2_list.append(np.matmul(X_list[j].copy(), B_mB_mt))\n",
    "        \n",
    "\n",
    "    R = np.concatenate((R_list[0].reshape(-1,resize_hw,resize_hw,1),R_list[1].reshape(-1,resize_hw,resize_hw,1),R_list[2].reshape(-1,resize_hw,resize_hw,1)),axis = 3)\n",
    "    R = np.reshape(R, (8000,resize_hw,resize_hw,3))\n",
    "    R2 = np.concatenate((R2_list[0].reshape(-1,resize_hw,resize_hw,1),R2_list[1].reshape(-1,resize_hw,resize_hw,1),R2_list[2].reshape(-1,resize_hw,resize_hw,1)),axis = 3)\n",
    "    R2 = np.reshape(R2, (10000,resize_hw,resize_hw,3))\n",
    "    \n",
    "    R[:,:,:,0] *= train_std_0\n",
    "    R[:,:,:,1] *= train_std_1\n",
    "    R[:,:,:,2] *= train_std_2\n",
    "    R[:,:,:,0] += train_mean_0\n",
    "    R[:,:,:,1] += train_mean_1\n",
    "    R[:,:,:,2] += train_mean_2    \n",
    "    R2[:,:,:,0] *= train_std_0\n",
    "    R2[:,:,:,1] *= train_std_1\n",
    "    R2[:,:,:,2] *= train_std_2\n",
    "    R2[:,:,:,0] += train_mean_0\n",
    "    R2[:,:,:,1] += train_mean_1\n",
    "    R2[:,:,:,2] += train_mean_2\n",
    "    \n",
    "    \n",
    "    mse_list.append(((orig_test-R)**2).mean()/8000)\n",
    "    \n",
    "    dim_vs_photo_list.append(R2[57])\n",
    "    dim_vs_photo_list2.append(R[58])\n",
    "\n",
    "dim_vs_photo_list.append(orig_im[57])\n",
    "dim_vs_photo_list2.append(orig_test[58])"
   ]
  },
  {
   "cell_type": "markdown",
   "metadata": {},
   "source": [
    "## Go through two sample reconstructions \n",
    "The left is a reconstruction of a train set sample. The right is a reconstruction of a test set sample\n",
    "Note that due to computational limitations. a z_dim of 1024 is a lossless reconstruction. Higher dimensions can be achieved by reducing or removing the stride"
   ]
  },
  {
   "cell_type": "code",
   "execution_count": 13,
   "metadata": {},
   "outputs": [
    {
     "name": "stdout",
     "output_type": "stream",
     "text": [
      "(32, 32, 3)\n"
     ]
    }
   ],
   "source": [
    "display_list = []\n",
    "display_dim_list = [32, 64, 128, 32, 64, 128, 256, 512, 1024, 256, 512, 1024, 2048, 4096, \"orig\", 2048, 4096, \"orig\"]\n",
    "for i in range(0,3):\n",
    "    display_list.append(dim_vs_photo_list[i])\n",
    "for i in range(0,3):\n",
    "    display_list.append(dim_vs_photo_list2[i])\n",
    "for i in range(3,6):\n",
    "    display_list.append(dim_vs_photo_list[i])\n",
    "for i in range(3,6):\n",
    "    display_list.append(dim_vs_photo_list2[i])\n",
    "for i in range(6,9):\n",
    "    display_list.append(dim_vs_photo_list[i])\n",
    "for i in range(6,9):\n",
    "    display_list.append(dim_vs_photo_list2[i])\n",
    "print(display_list[0].shape)"
   ]
  },
  {
   "cell_type": "code",
   "execution_count": 14,
   "metadata": {},
   "outputs": [
    {
     "name": "stderr",
     "output_type": "stream",
     "text": [
      "Clipping input data to the valid range for imshow with RGB data ([0..1] for floats or [0..255] for integers).\n",
      "Clipping input data to the valid range for imshow with RGB data ([0..1] for floats or [0..255] for integers).\n",
      "Clipping input data to the valid range for imshow with RGB data ([0..1] for floats or [0..255] for integers).\n",
      "Clipping input data to the valid range for imshow with RGB data ([0..1] for floats or [0..255] for integers).\n",
      "Clipping input data to the valid range for imshow with RGB data ([0..1] for floats or [0..255] for integers).\n",
      "Clipping input data to the valid range for imshow with RGB data ([0..1] for floats or [0..255] for integers).\n",
      "Clipping input data to the valid range for imshow with RGB data ([0..1] for floats or [0..255] for integers).\n",
      "Clipping input data to the valid range for imshow with RGB data ([0..1] for floats or [0..255] for integers).\n",
      "Clipping input data to the valid range for imshow with RGB data ([0..1] for floats or [0..255] for integers).\n",
      "Clipping input data to the valid range for imshow with RGB data ([0..1] for floats or [0..255] for integers).\n",
      "Clipping input data to the valid range for imshow with RGB data ([0..1] for floats or [0..255] for integers).\n",
      "Clipping input data to the valid range for imshow with RGB data ([0..1] for floats or [0..255] for integers).\n",
      "Clipping input data to the valid range for imshow with RGB data ([0..1] for floats or [0..255] for integers).\n",
      "Clipping input data to the valid range for imshow with RGB data ([0..1] for floats or [0..255] for integers).\n",
      "Clipping input data to the valid range for imshow with RGB data ([0..1] for floats or [0..255] for integers).\n",
      "Clipping input data to the valid range for imshow with RGB data ([0..1] for floats or [0..255] for integers).\n"
     ]
    },
    {
     "data": {
      "image/png": "[encoded data removed]",
      "text/plain": [
       "<Figure size 1080x576 with 18 Axes>"
      ]
     },
     "metadata": {},
     "output_type": "display_data"
    }
   ],
   "source": [
    "f, axarr = plt.subplots(3,6, figsize = (15,8))\n",
    "for i,ax in enumerate(axarr.ravel()):\n",
    "    try:\n",
    "        ax.imshow(display_list[i])\n",
    "        ax.set_xticks([])\n",
    "        ax.set_yticks([])\n",
    "        if i == 14 or i == 17:\n",
    "            ax.set_title(\"Original Image\")\n",
    "        else:\n",
    "            ax.set_title(\"Reconstruction for \\n z dim of \" + str(display_dim_list[i]))\n",
    "    except IndexError:\n",
    "        break\n",
    "plt.show()"
   ]
  },
  {
   "cell_type": "markdown",
   "metadata": {},
   "source": [
    "## MSE vs z dimension\n",
    "We plot the MSE between the original image and the reconstructed image per z dimension tried. As expected the MSE decreases as we use a larger z dimension since we lose less information\n",
    "\n",
    "Note that for our given dimension any z_dim greater than or equal to 1024 is already a lossless reconstruction"
   ]
  },
  {
   "cell_type": "code",
   "execution_count": 15,
   "metadata": {},
   "outputs": [
    {
     "data": {
      "image/png": "[encoded data removed]",
      "text/plain": [
       "<Figure size 432x288 with 1 Axes>"
      ]
     },
     "metadata": {
      "needs_background": "light"
     },
     "output_type": "display_data"
    }
   ],
   "source": [
    "plt.figure()\n",
    "\n",
    "plt.title(\"Z_dim vs MSE\")\n",
    "plt.plot(dim_list, mse_list)\n",
    "plt.show()"
   ]
  },
  {
   "cell_type": "markdown",
   "metadata": {},
   "source": [
    "### Optimal z-dim\n",
    "As expected the highest z_dim is the one with the best reconstruction quality\n",
    "Note that due to the image resizing, at 1024 and above z_dim this is now a lossless reconstruction\n",
    "\n",
    "I run into memory problems with higher z dimensions thus the \"optimal z dimension\" will be set to 128\n"
   ]
  },
  {
   "cell_type": "code",
   "execution_count": 16,
   "metadata": {},
   "outputs": [],
   "source": [
    "#If more RAM is available this maybe set to a higher dimension\n",
    "optim_z_dim = 128\n",
    "\n",
    "#I run into memory errors at higher dimensions\n",
    "#There seem to be hyperparameters for differnt z_dims\n",
    "\n",
    "#The following settings were used for z_dim = 128\n",
    "additive = 1e-300  #1e-200 if z_dim = 64\n",
    "thresh = 1e-200    #1e-200 if z_dim = 64\n",
    "\n"
   ]
  },
  {
   "cell_type": "markdown",
   "metadata": {},
   "source": [
    "# GMM"
   ]
  },
  {
   "cell_type": "markdown",
   "metadata": {},
   "source": [
    "### Building the dataset from the PCA\n",
    "\n",
    "From the lecture slides the z code for a given x of the dataset is obtained by multiplying x with $B_m$, where $B_m$ is the first $M$ elements of $B$ in turn obtained via eigenvector decomposition of the covariance matrix\n",
    "\n",
    "$z = (B_m)^Tx$\n",
    "\n",
    "Note again we have 3 \"channels\" of z codes which we concatenate into the final z_code which we try to fit to a GMM\n",
    "\n",
    "To reconstruct z we just multiply it with $B_m$\n",
    "\n",
    "$\\bar{x} = B_mz$\n",
    "\n",
    "where $\\bar{x}$ is the reconstructed x"
   ]
  },
  {
   "cell_type": "code",
   "execution_count": 17,
   "metadata": {},
   "outputs": [
    {
     "name": "stdout",
     "output_type": "stream",
     "text": [
      "(10000, 128)\n",
      "(10000, 384)\n"
     ]
    }
   ],
   "source": [
    "z_codes_list = []\n",
    "for i in range(3):\n",
    "    B_m = B_list[i][:,:optim_z_dim]\n",
    "    z_codes_list.append(np.matmul(X_list[i], B_m))\n",
    "    \n",
    "print(z_codes_list[0].shape)\n",
    "\n",
    "z_codes_uni = np.concatenate((z_codes_list[0],z_codes_list[1],z_codes_list[2]), axis = 1)\n",
    "print(z_codes_uni.shape)"
   ]
  },
  {
   "cell_type": "markdown",
   "metadata": {},
   "source": [
    "### GMM Proper"
   ]
  },
  {
   "cell_type": "code",
   "execution_count": 18,
   "metadata": {},
   "outputs": [
    {
     "name": "stdout",
     "output_type": "stream",
     "text": [
      "Nothing to delete\n",
      "For iter:  0 . Time is:  10.543626546859741\n",
      "For iter:  1 . Time is:  7.118481397628784\n",
      "For iter:  2 . Time is:  6.340068578720093\n",
      "For iter:  3 . Time is:  5.6703126430511475\n",
      "For iter:  4 . Time is:  5.900239706039429\n",
      "For iter:  5 . Time is:  5.787713527679443\n",
      "For iter:  6 . Time is:  5.652912855148315\n",
      "For iter:  7 . Time is:  7.198131322860718\n",
      "For iter:  8 . Time is:  6.398425579071045\n",
      "For iter:  9 . Time is:  6.22737979888916\n",
      "For iter:  10 . Time is:  6.281744480133057\n",
      "For iter:  11 . Time is:  6.330591201782227\n",
      "For iter:  12 . Time is:  6.0553789138793945\n",
      "For iter:  13 . Time is:  5.803380727767944\n",
      "For iter:  14 . Time is:  5.991526126861572\n",
      "For iter:  15 . Time is:  6.923551559448242\n",
      "For iter:  16 . Time is:  6.043784141540527\n",
      "For iter:  17 . Time is:  5.684814453125\n",
      "For iter:  18 . Time is:  5.904232978820801\n",
      "For iter:  19 . Time is:  6.49319314956665\n",
      "NLL [6906657.594777023, 3978808.0713362447, 3686491.7393556805, 3417079.5071236007, 3212347.1228463277, 3075046.756220137, 3063073.0441012355, 2982220.8249227507, 3047385.711380415, 3048187.2244736003, 3047477.4293926978, 3047087.9729511812, 3046742.005416145, 3046450.5734073445, 3046320.757581299, 3046201.368140733, 3046058.757401651, 3045961.3515223777, 3045877.0272540026, 3045762.078381017]\n",
      "x [0, 1, 2, 3, 4, 5, 6, 7, 8, 9, 10, 11, 12, 13, 14, 15, 16, 17, 18, 19]\n"
     ]
    },
    {
     "data": {
      "image/png": "[encoded data removed]",
      "text/plain": [
       "<Figure size 432x288 with 1 Axes>"
      ]
     },
     "metadata": {
      "needs_background": "light"
     },
     "output_type": "display_data"
    }
   ],
   "source": [
    "#https://www.python-course.eu/expectation_maximization_and_gaussian_mixture_models.php\n",
    "#https://github.com/roatienza/ml/blob/master/gmm/notebook/gmm.ipynb\n",
    "n_comp = 10\n",
    "n_dim = optim_z_dim*3\n",
    "\n",
    "try:\n",
    "    del gmm_sig, gmm_mu, gmm_w, rv, val\n",
    "except:\n",
    "    print(\"Nothing to delete\")\n",
    "\n",
    "start = time.time()\n",
    "###STEP ONE\n",
    "#Initialize mean, covariances, and weights of components\n",
    "\n",
    "gmm_mu = np.random.normal(size = (n_comp, n_dim))\n",
    "gmm_mu_shape = (n_comp, n_dim)\n",
    "#Make a covariance matrix for each component similar to sklearn's covariance_type = \"full\"\n",
    "gmm_sig = [np.identity(n_dim) for _ in range(n_comp)]\n",
    "gmm_sig_shape = np.array(gmm_sig).shape\n",
    "\n",
    "gmm_w = np.ones((n_comp,1))\n",
    "gmm_w = gmm_w/gmm_w.sum()\n",
    "\n",
    "iter_max = 20\n",
    "nll = []\n",
    "\n",
    "#https://stackoverflow.com/questions/34750845/error-when-testing-whether-a-matrix-is-positive-semi-definite-psd-in-python\n",
    "#For debugging\n",
    "def is_semi_pos_def_eigsh(x, epsilon=1e-10):\n",
    "    return np.all(np.linalg.eigvalsh(x) >= -epsilon)\n",
    "\n",
    "\n",
    "for iteration in range(iter_max):\n",
    "    start = time.time()\n",
    "    \n",
    "    #Initialize the random gaussians as defined by the mu,sig above\n",
    "    rv = [multivariate_normal(gmm_mu[i], gmm_sig[i], allow_singular = True) for i in range(n_comp)]\n",
    "    \n",
    "    #Probability that z_code belongs to a certain gaussian\n",
    "    gaussian_prob = np.array([rv[i].pdf(z_codes_uni) for  i in range(n_comp)])\n",
    "    \n",
    "    #This additive probability to prevent nans/infs seem to be a hyper paramater\n",
    "    #1e-200 works for z_dim = 64\n",
    "    #1e-300 works for z_dim = 128\n",
    "    gaussian_prob += additive\n",
    "    \n",
    "    #How to interpret gaussian_prob\n",
    "    #Each row contains the probability that each of samples of z_codes belongs to that gaussian\n",
    "    #I.e. row 3, column 800 is the probability that the 800th sample belongs to the third multivariate gaussian\n",
    "    \n",
    "    \n",
    "    #Get the nll\n",
    "    weighted_gaussian_prob = np.array([gmm_w[i]*rv[i].pdf(z_codes_uni) for i in range(n_comp)])\n",
    "\n",
    "    for k in range(n_comp):\n",
    "        weighted_gaussian_prob[k] = np.array(gmm_w[k]*gaussian_prob[k])\n",
    "    \n",
    "    \n",
    "    #print(weighted_gaussian_prob.min(), weighted_gaussian_prob.max(), \"wgp min max\")\n",
    "    \n",
    "    \n",
    "    weighted_gaussian_prob = weighted_gaussian_prob.sum(axis = 0)\n",
    "    \n",
    "    #print(weighted_gaussian_prob.shape, \"shape wgp\")\n",
    "    weighted_gaussian_prob = np.log(weighted_gaussian_prob).sum()\n",
    "    \n",
    "    \n",
    "    nll.append(-weighted_gaussian_prob)\n",
    "    #-inf because it's too low as of now\n",
    "    \n",
    "    #Compute the responsibilities (r_nk)########################################################################\n",
    "    #r_nk (kn?) = g_val for nth sample and kth gaussian divided by the summation of all gaussians\n",
    "    #Each weight is repeated for all the samples\n",
    "    gmm_w_rep = np.repeat(gmm_w, z_codes_uni.shape[0], axis = 1)\n",
    "    #Multiply each G_prob by its weight\n",
    "    \n",
    "    gaussian_prob_sum = (np.multiply(gmm_w_rep, gaussian_prob))\n",
    "    gaussian_prob_sum = gaussian_prob_sum.sum(axis = 0)\n",
    "    \n",
    "    \n",
    "    #This also seems to be helpful to performance.\n",
    "    #I forgot to take it out but if it's helpful it'll stay\n",
    "    gaussian_prob_sum[gaussian_prob_sum < thresh] = thresh\n",
    "    #(n_samples,) -> (1, n_samples)\n",
    "    gaussian_prob_sum = np.reshape(gaussian_prob_sum, (-1, gaussian_prob_sum.shape[0]))\n",
    "    \n",
    "    #Repeat per component\n",
    "    gaussian_prob_sum = np.repeat(gaussian_prob_sum, n_comp, axis = 0)\n",
    "    \n",
    "    #print(\"Gaussian_Prob stats\", gaussian_prob.min(), gaussian_prob.max())\n",
    "    #print(gaussian_prob_sum.min(), gaussian_prob_sum.max(), gaussian_prob_sum.shape)\n",
    "    \n",
    "    #print(\"GMM_W_REP\", gmm_w_rep.min(), gmm_w_rep.max(), gmm_w_rep.shape)\n",
    "    #there should be 5000, one for each sample\n",
    "    \n",
    "    \n",
    "    r_nk = np.multiply(gaussian_prob, gmm_w_rep)\n",
    "    #print(r_nk.shape, \"rnk shape\")\n",
    "    \n",
    "    \n",
    "    r_nk = np.divide(r_nk, np.sum(r_nk, axis = 0))\n",
    "    \n",
    "    #print(\"RNK should be 0 to 1\", r_nk.min(), r_nk.max())\n",
    "    #print(r_nk.shape, gaussian_prob_sum.shape)\n",
    "    #print(\"RNK predivide\", r_nk.min(), r_nk.max())\n",
    "    \n",
    "    r_nk = np.nan_to_num(r_nk)\n",
    "     \n",
    "    #Compute for N_k##########################################3\n",
    "    if r_nk.sum(axis = 0).min() < 0.9:\n",
    "        print(r_nk.sum(axis = 0).min())\n",
    "        print(\"not one\")\n",
    "        break\n",
    "    #print(\"should be one\", r_nk.sum(axis = 0).min())\n",
    "    #print(\"RNK\", r_nk)\n",
    "    N_k = r_nk.sum(axis = 1)\n",
    "    #Repeat K times?. I believe it should be dim times\n",
    "    #go with comp for now\n",
    "    #changing to dim 408am\n",
    "    #need to repeat this for each sample to ease the obtaining of others\n",
    "    N_k = np.repeat(N_k, n_dim, axis = 0)\n",
    "    \n",
    "    \n",
    "    #Update gmm_mu_k\n",
    "\n",
    "    r_nk = np.repeat(r_nk, n_dim, axis = 0) #r_n?\n",
    "    \n",
    "    x_t = [z_codes_uni.transpose() for _ in range(n_comp)]\n",
    "    x_t = np.concatenate(x_t, axis = 0)\n",
    "    \n",
    "    gmm_mu = np.multiply(r_nk, x_t).sum(axis = 1)\n",
    "    \n",
    "    gmm_mu = np.divide(gmm_mu, N_k)\n",
    "    \n",
    "    gmm_mu = gmm_mu.reshape((-1,1))\n",
    "    \n",
    "    \n",
    "    #Update Covariance Matrices\n",
    "    x_t = x_t - gmm_mu\n",
    "    x_tt = x_t.copy()\n",
    "    \n",
    "    x_t = np.multiply(x_t, r_nk)\n",
    "    \n",
    "    x_t = np.reshape(x_t, (n_comp, n_dim, -1))\n",
    "    x_tt = np.reshape(x_tt, (n_comp, n_dim, -1))\n",
    "    \n",
    "    gmm_sig = [np.matmul(x_t[i], x_tt[i].transpose()) for i in range(x_t.shape[0])]\n",
    "    \n",
    "    N_k = np.reshape(N_k, (-1,1))\n",
    "    \n",
    "    N_k = np.repeat(N_k, n_dim, axis = 1)\n",
    "    N_k = np.reshape(N_k, (n_comp, n_dim, n_dim))\n",
    "    #https://stackoverflow.com/questions/41515522/numpy-positive-semi-definite-warning\n",
    "\n",
    "    gmm_sig = [np.divide(gmm_sig[i], N_k[i,:,:]) for i in range(n_comp)]\n",
    "    gmm_sig = np.reshape(np.array(gmm_sig), gmm_sig_shape)\n",
    "    \n",
    "    gmm_sig = np.nan_to_num(gmm_sig)\n",
    "    \n",
    "    if gmm_sig.max() == 0.0:\n",
    "        gmm_sig_additive = [1e-10*np.identity(n_dim) for _ in range(n_comp)]\n",
    "        gmm_sig += gmm_sig_additive\n",
    "        print(\"adding\")\n",
    "    \n",
    "    #Update Weights of each component\n",
    "    for i in range(n_comp):\n",
    "        #just get any NK value from that particular matrix\n",
    "        gmm_w[i] = N_k[i,0,0]/z_codes_uni.shape[0]\n",
    "    \n",
    "    #Force the weights to sum to one\n",
    "    #gmm_w = gmm_w/gmm_w.sum()\n",
    "    \n",
    "    #print(\"################################# sum should be one\",gmm_w.sum(axis = 0))\n",
    "    #shape checks\n",
    "    gmm_mu = gmm_mu.reshape((gmm_mu_shape))\n",
    "    \n",
    "    \n",
    "    if False:\n",
    "        #print(\"for iter\", iteration)\n",
    "        #print(\"mu:\", gmm_mu)\n",
    "        #print('sigma:', gmm_sig)\n",
    "        print( N_k[i,0,0])\n",
    "        print('pi', gmm_w)\n",
    "    \n",
    "    end = time.time()\n",
    "    print(\"For iter: \",iteration,\". Time is: \", end - start)\n",
    "    #print(\"___________________________NEXT ITER______________________________________\")\n",
    "    if nll[iteration] < 100 and iteration > 20:\n",
    "        iter_max = iteration + 1\n",
    "        print(\"BREKAING\")\n",
    "        break\n",
    "x = [iteration for iteration in range(iter_max)]\n",
    "print(\"NLL\", nll)\n",
    "print(\"x\", x)\n",
    "for n in nll:\n",
    "    n = np.nan_to_num(n)\n",
    "plt.plot(x, nll)\n",
    "plt.show()"
   ]
  },
  {
   "cell_type": "markdown",
   "metadata": {},
   "source": [
    "# Obtaining labels\n",
    "\n",
    "Obtain the gaussian predictions both for the train set z_codes.\n",
    "\n",
    "Use the cluster predictions of the GMM to assign labels to the clusters via the following criterion.\n",
    "\n",
    "Part One: Obtain cluster predictions\n",
    "1. Decide which GMM component has the greatest weight for a particular z_code\n",
    "2. Classify that as the prediction for that particular sample\n",
    "\n",
    "Part Two: Assign labels to the clusters\n",
    "1. For each class divide them into their cluster predictions. (This will result in a table of size (num_class, num_cluster))\n",
    "2. For each cluster, label it as the class which has most predictions for that cluster. (Note that each class has exactly 500 in the train set)"
   ]
  },
  {
   "cell_type": "markdown",
   "metadata": {},
   "source": [
    "### Obtain z_codes from train and test set"
   ]
  },
  {
   "cell_type": "code",
   "execution_count": 19,
   "metadata": {},
   "outputs": [
    {
     "name": "stdout",
     "output_type": "stream",
     "text": [
      "(8000, 384)\n",
      "(5000, 384)\n"
     ]
    }
   ],
   "source": [
    "test_im = read_all_images(test_path)\n",
    "train_im = read_all_images(train_path)\n",
    "\n",
    "train_m_and_s = [train_mean_0, train_mean_1, train_mean_2, train_std_0, train_std_1, train_std_2]\n",
    "\n",
    "test_X_list = resize_and_split_data(test_im, 3, 32, 3, train_m_and_s)\n",
    "train_X_list = resize_and_split_data(train_im, 3, 32, 3, train_m_and_s)\n",
    "\n",
    "\n",
    "test_z_codes = get_z_codes(optim_z_dim, test_X_list, B_list)\n",
    "train_z_codes = get_z_codes(optim_z_dim, train_X_list, B_list)\n",
    "\n",
    "print(test_z_codes.shape)\n",
    "print(train_z_codes.shape)\n"
   ]
  },
  {
   "cell_type": "code",
   "execution_count": 20,
   "metadata": {},
   "outputs": [
    {
     "name": "stdout",
     "output_type": "stream",
     "text": [
      "(8000, 10)\n",
      "(5000, 10)\n",
      "(8000,) (5000,)\n",
      "0 9\n",
      "0 9\n",
      "[3 8 2 9 8 8 3 2 2 9] \n",
      " [2 0 0 0 2 0 0 2 2 9]\n"
     ]
    }
   ],
   "source": [
    "\n",
    "rv = [multivariate_normal(gmm_mu[i], gmm_sig[i], allow_singular = True) for i in range(n_comp)]\n",
    "\n",
    "#Probability that z_code belongs to a certain gaussian\n",
    "gaussian_prob = np.array([rv[i].pdf(test_z_codes) for  i in range(n_comp)])\n",
    "gaussian_prob = gaussian_prob.transpose()\n",
    "print(gaussian_prob.shape)\n",
    "test_predictions = np.argmax(gaussian_prob, axis = 1)\n",
    "\n",
    "gaussian_prob = np.array([rv[i].pdf(train_z_codes) for  i in range(n_comp)])\n",
    "gaussian_prob = gaussian_prob.transpose()\n",
    "print(gaussian_prob.shape)\n",
    "train_predictions = np.argmax(gaussian_prob, axis = 1)\n",
    "\n",
    "print(test_predictions.shape, train_predictions.shape)\n",
    "print(test_predictions.min(), test_predictions.max())\n",
    "print(train_predictions.min(), train_predictions.max())\n",
    "print(test_predictions[0:10],\"\\n\", train_predictions[0:10])"
   ]
  },
  {
   "cell_type": "markdown",
   "metadata": {},
   "source": [
    "# Comparing with labels"
   ]
  },
  {
   "cell_type": "code",
   "execution_count": 21,
   "metadata": {},
   "outputs": [
    {
     "name": "stdout",
     "output_type": "stream",
     "text": [
      "[[ 29.   1. 245.  28.   6.   1.   0.   0.  12. 178.]\n",
      " [147.   0. 174.  59.   5.   6.   1.   2.  89.  17.]\n",
      " [ 76.   0. 163.  47.  13.   2.   1.   0.   8. 190.]\n",
      " [ 64.   2. 326.  44.   2.   1.   0.   1.  51.   9.]\n",
      " [118.   1. 246.  57.   4.   3.   0.   0.  16.  55.]\n",
      " [ 80.   1. 261.  63.   3.   1.   0.   2.  74.  15.]\n",
      " [ 73.   0. 258. 111.   4.   3.   1.   2.  23.  25.]\n",
      " [114.   0. 280.  59.   0.   1.   1.   1.  40.   4.]\n",
      " [ 14.   0. 240.  20.   7.   6.   0.   0.  27. 186.]\n",
      " [ 73.   1. 170.  46.  12.   6.   1.   0.  11. 180.]]\n"
     ]
    }
   ],
   "source": [
    "#Obtain the labels\n",
    "train_labels = read_labels(train_label_path)\n",
    "train_labels -= 1\n",
    "#Obtain the indices corresponding to each label\n",
    "idx_list = []\n",
    "for i in range(1,11):\n",
    "    idx_list.append(np.where(train_labels == i)[0])\n",
    "\n",
    "\n",
    "correct = np.zeros((10,train_labels.shape[0]))\n",
    "comp = np.zeros((10,train_labels.shape[0]))\n",
    "final = np.zeros((10,train_labels.shape[0]))\n",
    "total_pred = np.zeros((10,train_labels.shape[0]))\n",
    "\n",
    "label_table = np.zeros((10,10))\n",
    "temp1 = np.zeros((train_labels.shape[0]))\n",
    "for i in range(10):\n",
    "    for j in range(10):\n",
    "        \n",
    "        temp1 = np.zeros((train_labels.shape[0]))\n",
    "        temp1[(train_predictions == j) & (train_labels == i)] = 1\n",
    "        label_table[i][j] = temp1.sum()\n",
    "        \n",
    "\n",
    "print(label_table)"
   ]
  },
  {
   "cell_type": "code",
   "execution_count": 22,
   "metadata": {},
   "outputs": [
    {
     "name": "stdout",
     "output_type": "stream",
     "text": [
      "['Cluster 0', 'Cluster 1', 'Cluster 2', 'Cluster 3', 'Cluster 4', 'Cluster 5', 'Cluster 6', 'Cluster 7', 'Cluster 8', 'Cluster 9']\n"
     ]
    },
    {
     "data": {
      "text/html": [
       "<div>\n",
       "<style scoped>\n",
       "    .dataframe tbody tr th:only-of-type {\n",
       "        vertical-align: middle;\n",
       "    }\n",
       "\n",
       "    .dataframe tbody tr th {\n",
       "        vertical-align: top;\n",
       "    }\n",
       "\n",
       "    .dataframe thead th {\n",
       "        text-align: right;\n",
       "    }\n",
       "</style>\n",
       "<table border=\"1\" class=\"dataframe\">\n",
       "  <thead>\n",
       "    <tr style=\"text-align: right;\">\n",
       "      <th></th>\n",
       "      <th>Cluster 0</th>\n",
       "      <th>Cluster 1</th>\n",
       "      <th>Cluster 2</th>\n",
       "      <th>Cluster 3</th>\n",
       "      <th>Cluster 4</th>\n",
       "      <th>Cluster 5</th>\n",
       "      <th>Cluster 6</th>\n",
       "      <th>Cluster 7</th>\n",
       "      <th>Cluster 8</th>\n",
       "      <th>Cluster 9</th>\n",
       "    </tr>\n",
       "  </thead>\n",
       "  <tbody>\n",
       "    <tr>\n",
       "      <td>airplane</td>\n",
       "      <td>29.0</td>\n",
       "      <td>1.0</td>\n",
       "      <td>245.0</td>\n",
       "      <td>28.0</td>\n",
       "      <td>6.0</td>\n",
       "      <td>1.0</td>\n",
       "      <td>0.0</td>\n",
       "      <td>0.0</td>\n",
       "      <td>12.0</td>\n",
       "      <td>178.0</td>\n",
       "    </tr>\n",
       "    <tr>\n",
       "      <td>bird</td>\n",
       "      <td>147.0</td>\n",
       "      <td>0.0</td>\n",
       "      <td>174.0</td>\n",
       "      <td>59.0</td>\n",
       "      <td>5.0</td>\n",
       "      <td>6.0</td>\n",
       "      <td>1.0</td>\n",
       "      <td>2.0</td>\n",
       "      <td>89.0</td>\n",
       "      <td>17.0</td>\n",
       "    </tr>\n",
       "    <tr>\n",
       "      <td>car</td>\n",
       "      <td>76.0</td>\n",
       "      <td>0.0</td>\n",
       "      <td>163.0</td>\n",
       "      <td>47.0</td>\n",
       "      <td>13.0</td>\n",
       "      <td>2.0</td>\n",
       "      <td>1.0</td>\n",
       "      <td>0.0</td>\n",
       "      <td>8.0</td>\n",
       "      <td>190.0</td>\n",
       "    </tr>\n",
       "    <tr>\n",
       "      <td>cat</td>\n",
       "      <td>64.0</td>\n",
       "      <td>2.0</td>\n",
       "      <td>326.0</td>\n",
       "      <td>44.0</td>\n",
       "      <td>2.0</td>\n",
       "      <td>1.0</td>\n",
       "      <td>0.0</td>\n",
       "      <td>1.0</td>\n",
       "      <td>51.0</td>\n",
       "      <td>9.0</td>\n",
       "    </tr>\n",
       "    <tr>\n",
       "      <td>deer</td>\n",
       "      <td>118.0</td>\n",
       "      <td>1.0</td>\n",
       "      <td>246.0</td>\n",
       "      <td>57.0</td>\n",
       "      <td>4.0</td>\n",
       "      <td>3.0</td>\n",
       "      <td>0.0</td>\n",
       "      <td>0.0</td>\n",
       "      <td>16.0</td>\n",
       "      <td>55.0</td>\n",
       "    </tr>\n",
       "    <tr>\n",
       "      <td>dog</td>\n",
       "      <td>80.0</td>\n",
       "      <td>1.0</td>\n",
       "      <td>261.0</td>\n",
       "      <td>63.0</td>\n",
       "      <td>3.0</td>\n",
       "      <td>1.0</td>\n",
       "      <td>0.0</td>\n",
       "      <td>2.0</td>\n",
       "      <td>74.0</td>\n",
       "      <td>15.0</td>\n",
       "    </tr>\n",
       "    <tr>\n",
       "      <td>horse</td>\n",
       "      <td>73.0</td>\n",
       "      <td>0.0</td>\n",
       "      <td>258.0</td>\n",
       "      <td>111.0</td>\n",
       "      <td>4.0</td>\n",
       "      <td>3.0</td>\n",
       "      <td>1.0</td>\n",
       "      <td>2.0</td>\n",
       "      <td>23.0</td>\n",
       "      <td>25.0</td>\n",
       "    </tr>\n",
       "    <tr>\n",
       "      <td>monkey</td>\n",
       "      <td>114.0</td>\n",
       "      <td>0.0</td>\n",
       "      <td>280.0</td>\n",
       "      <td>59.0</td>\n",
       "      <td>0.0</td>\n",
       "      <td>1.0</td>\n",
       "      <td>1.0</td>\n",
       "      <td>1.0</td>\n",
       "      <td>40.0</td>\n",
       "      <td>4.0</td>\n",
       "    </tr>\n",
       "    <tr>\n",
       "      <td>ship</td>\n",
       "      <td>14.0</td>\n",
       "      <td>0.0</td>\n",
       "      <td>240.0</td>\n",
       "      <td>20.0</td>\n",
       "      <td>7.0</td>\n",
       "      <td>6.0</td>\n",
       "      <td>0.0</td>\n",
       "      <td>0.0</td>\n",
       "      <td>27.0</td>\n",
       "      <td>186.0</td>\n",
       "    </tr>\n",
       "    <tr>\n",
       "      <td>truck</td>\n",
       "      <td>73.0</td>\n",
       "      <td>1.0</td>\n",
       "      <td>170.0</td>\n",
       "      <td>46.0</td>\n",
       "      <td>12.0</td>\n",
       "      <td>6.0</td>\n",
       "      <td>1.0</td>\n",
       "      <td>0.0</td>\n",
       "      <td>11.0</td>\n",
       "      <td>180.0</td>\n",
       "    </tr>\n",
       "  </tbody>\n",
       "</table>\n",
       "</div>"
      ],
      "text/plain": [
       "          Cluster 0  Cluster 1  Cluster 2  Cluster 3  Cluster 4  Cluster 5  \\\n",
       "airplane       29.0        1.0      245.0       28.0        6.0        1.0   \n",
       "bird          147.0        0.0      174.0       59.0        5.0        6.0   \n",
       "car            76.0        0.0      163.0       47.0       13.0        2.0   \n",
       "cat            64.0        2.0      326.0       44.0        2.0        1.0   \n",
       "deer          118.0        1.0      246.0       57.0        4.0        3.0   \n",
       "dog            80.0        1.0      261.0       63.0        3.0        1.0   \n",
       "horse          73.0        0.0      258.0      111.0        4.0        3.0   \n",
       "monkey        114.0        0.0      280.0       59.0        0.0        1.0   \n",
       "ship           14.0        0.0      240.0       20.0        7.0        6.0   \n",
       "truck          73.0        1.0      170.0       46.0       12.0        6.0   \n",
       "\n",
       "          Cluster 6  Cluster 7  Cluster 8  Cluster 9  \n",
       "airplane        0.0        0.0       12.0      178.0  \n",
       "bird            1.0        2.0       89.0       17.0  \n",
       "car             1.0        0.0        8.0      190.0  \n",
       "cat             0.0        1.0       51.0        9.0  \n",
       "deer            0.0        0.0       16.0       55.0  \n",
       "dog             0.0        2.0       74.0       15.0  \n",
       "horse           1.0        2.0       23.0       25.0  \n",
       "monkey          1.0        1.0       40.0        4.0  \n",
       "ship            0.0        0.0       27.0      186.0  \n",
       "truck           1.0        0.0       11.0      180.0  "
      ]
     },
     "execution_count": 22,
     "metadata": {},
     "output_type": "execute_result"
    }
   ],
   "source": [
    "import pandas as pd\n",
    "\n",
    "col_list = []\n",
    "idx_list = ['airplane', 'bird', 'car', 'cat', 'deer', 'dog', 'horse', 'monkey', 'ship', 'truck']\n",
    "for i in range(10):\n",
    "    col_list.append('Cluster ' + str(i))\n",
    "print(col_list)\n",
    "pd.DataFrame(label_table, columns = col_list, index = idx_list)"
   ]
  },
  {
   "cell_type": "markdown",
   "metadata": {},
   "source": [
    "Now we assign labels to the clusters. For each cluster we take the class that has the most predictions and label it as that cluster."
   ]
  },
  {
   "cell_type": "code",
   "execution_count": 23,
   "metadata": {},
   "outputs": [
    {
     "name": "stdout",
     "output_type": "stream",
     "text": [
      "{0: 'bird', 1: 'cat', 2: 'cat', 3: 'horse', 4: 'car', 5: 'bird', 6: 'bird', 7: 'bird', 8: 'bird', 9: 'car'}\n",
      "{0: 1, 1: 3, 2: 3, 3: 6, 4: 2, 5: 1, 6: 1, 7: 1, 8: 1, 9: 2}\n"
     ]
    }
   ],
   "source": [
    "named_cluster_dict = {}\n",
    "number_cluster_dict = {}\n",
    "for i in range(10):\n",
    "    named_cluster_dict[i] = idx_list[np.argmax(label_table[:,i])]\n",
    "\n",
    "\n",
    "for i in range(10):\n",
    "    number_cluster_dict[i] = np.argmax(label_table[:,i])\n",
    "print(named_cluster_dict)\n",
    "print(number_cluster_dict)"
   ]
  },
  {
   "cell_type": "code",
   "execution_count": 24,
   "metadata": {},
   "outputs": [
    {
     "name": "stdout",
     "output_type": "stream",
     "text": [
      "[3 8 2 ... 8 9 9]\n",
      "[6 1 3 ... 1 2 2]\n"
     ]
    }
   ],
   "source": [
    "#Edit the test predictions from before\n",
    "#https://stackoverflow.com/questions/3403973/fast-replacement-of-values-in-a-numpy-array\n",
    "test_predictions_converted = np.copy(test_predictions)\n",
    "for k, v in number_cluster_dict.items(): test_predictions_converted[test_predictions == k] = v\n",
    "print(test_predictions)\n",
    "print(test_predictions_converted)"
   ]
  },
  {
   "cell_type": "code",
   "execution_count": 25,
   "metadata": {},
   "outputs": [
    {
     "name": "stdout",
     "output_type": "stream",
     "text": [
      "[[ 30.   2. 446.  25.  10.   3.   2.   0.  15. 267.]\n",
      " [231.   2. 307. 107.   4.  10.   2.   3. 113.  21.]\n",
      " [126.   0. 249.  88.  25.   9.   1.   1.   8. 293.]\n",
      " [110.   2. 482.  98.   1.   1.   0.   0.  89.  17.]\n",
      " [206.   0. 391.  76.   8.   2.   1.   0.  33.  83.]\n",
      " [146.   3. 391. 110.   2.   7.   1.   1. 112.  27.]\n",
      " [134.   0. 398. 167.   2.   3.   2.   1.  45.  48.]\n",
      " [189.   0. 432.  88.   1.   3.   1.   2.  78.   6.]\n",
      " [ 21.   4. 351.  34.   9.   2.   0.   1.  39. 339.]\n",
      " [ 97.   1. 275.  69.  27.   3.   1.   1.  20. 306.]]\n",
      "[800. 800. 800. 800. 800. 800. 800. 800. 800. 800.] [1290.   14. 3722.  862.   89.   43.   11.   10.  552. 1407.]\n"
     ]
    }
   ],
   "source": [
    "#Obtain the test labels\n",
    "test_labels = read_labels(test_label_path)\n",
    "test_labels -= 1\n",
    "#Obtain the indices corresponding to each label\n",
    "idx_list = []\n",
    "for i in range(1,11):\n",
    "    idx_list.append(np.where(test_labels == i)[0])\n",
    "\n",
    "\n",
    "correct = np.zeros((10,test_labels.shape[0]))\n",
    "comp = np.zeros((10,test_labels.shape[0]))\n",
    "final = np.zeros((10,test_labels.shape[0]))\n",
    "total_pred = np.zeros((10,test_labels.shape[0]))\n",
    "\n",
    "label_table2 = np.zeros((10,10))\n",
    "temp1 = np.zeros((test_labels.shape[0]))\n",
    "for i in range(10):\n",
    "    for j in range(10):\n",
    "        \n",
    "        temp1 = np.zeros((test_labels.shape[0]))\n",
    "        temp1[(test_predictions == j) & (test_labels == i)] = 1\n",
    "        label_table2[i][j] = temp1.sum()\n",
    "        \n",
    "\n",
    "print(label_table2)\n",
    "print(label_table2.sum(axis = 1), label_table2.sum(axis = 0))"
   ]
  },
  {
   "cell_type": "code",
   "execution_count": 26,
   "metadata": {},
   "outputs": [
    {
     "name": "stdout",
     "output_type": "stream",
     "text": [
      "['airplane', 'bird', 'car', 'cat', 'deer', 'dog', 'horse', 'monkey', 'ship', 'truck']\n",
      "['Cluster bird', 'Cluster cat', 'Cluster cat', 'Cluster horse', 'Cluster car', 'Cluster bird', 'Cluster bird', 'Cluster bird', 'Cluster bird', 'Cluster car']\n"
     ]
    },
    {
     "data": {
      "text/html": [
       "<div>\n",
       "<style scoped>\n",
       "    .dataframe tbody tr th:only-of-type {\n",
       "        vertical-align: middle;\n",
       "    }\n",
       "\n",
       "    .dataframe tbody tr th {\n",
       "        vertical-align: top;\n",
       "    }\n",
       "\n",
       "    .dataframe thead th {\n",
       "        text-align: right;\n",
       "    }\n",
       "</style>\n",
       "<table border=\"1\" class=\"dataframe\">\n",
       "  <thead>\n",
       "    <tr style=\"text-align: right;\">\n",
       "      <th></th>\n",
       "      <th>Cluster bird</th>\n",
       "      <th>Cluster cat</th>\n",
       "      <th>Cluster cat</th>\n",
       "      <th>Cluster horse</th>\n",
       "      <th>Cluster car</th>\n",
       "      <th>Cluster bird</th>\n",
       "      <th>Cluster bird</th>\n",
       "      <th>Cluster bird</th>\n",
       "      <th>Cluster bird</th>\n",
       "      <th>Cluster car</th>\n",
       "    </tr>\n",
       "  </thead>\n",
       "  <tbody>\n",
       "    <tr>\n",
       "      <td>airplane</td>\n",
       "      <td>30.0</td>\n",
       "      <td>2.0</td>\n",
       "      <td>446.0</td>\n",
       "      <td>25.0</td>\n",
       "      <td>10.0</td>\n",
       "      <td>3.0</td>\n",
       "      <td>2.0</td>\n",
       "      <td>0.0</td>\n",
       "      <td>15.0</td>\n",
       "      <td>267.0</td>\n",
       "    </tr>\n",
       "    <tr>\n",
       "      <td>bird</td>\n",
       "      <td>231.0</td>\n",
       "      <td>2.0</td>\n",
       "      <td>307.0</td>\n",
       "      <td>107.0</td>\n",
       "      <td>4.0</td>\n",
       "      <td>10.0</td>\n",
       "      <td>2.0</td>\n",
       "      <td>3.0</td>\n",
       "      <td>113.0</td>\n",
       "      <td>21.0</td>\n",
       "    </tr>\n",
       "    <tr>\n",
       "      <td>car</td>\n",
       "      <td>126.0</td>\n",
       "      <td>0.0</td>\n",
       "      <td>249.0</td>\n",
       "      <td>88.0</td>\n",
       "      <td>25.0</td>\n",
       "      <td>9.0</td>\n",
       "      <td>1.0</td>\n",
       "      <td>1.0</td>\n",
       "      <td>8.0</td>\n",
       "      <td>293.0</td>\n",
       "    </tr>\n",
       "    <tr>\n",
       "      <td>cat</td>\n",
       "      <td>110.0</td>\n",
       "      <td>2.0</td>\n",
       "      <td>482.0</td>\n",
       "      <td>98.0</td>\n",
       "      <td>1.0</td>\n",
       "      <td>1.0</td>\n",
       "      <td>0.0</td>\n",
       "      <td>0.0</td>\n",
       "      <td>89.0</td>\n",
       "      <td>17.0</td>\n",
       "    </tr>\n",
       "    <tr>\n",
       "      <td>deer</td>\n",
       "      <td>206.0</td>\n",
       "      <td>0.0</td>\n",
       "      <td>391.0</td>\n",
       "      <td>76.0</td>\n",
       "      <td>8.0</td>\n",
       "      <td>2.0</td>\n",
       "      <td>1.0</td>\n",
       "      <td>0.0</td>\n",
       "      <td>33.0</td>\n",
       "      <td>83.0</td>\n",
       "    </tr>\n",
       "    <tr>\n",
       "      <td>dog</td>\n",
       "      <td>146.0</td>\n",
       "      <td>3.0</td>\n",
       "      <td>391.0</td>\n",
       "      <td>110.0</td>\n",
       "      <td>2.0</td>\n",
       "      <td>7.0</td>\n",
       "      <td>1.0</td>\n",
       "      <td>1.0</td>\n",
       "      <td>112.0</td>\n",
       "      <td>27.0</td>\n",
       "    </tr>\n",
       "    <tr>\n",
       "      <td>horse</td>\n",
       "      <td>134.0</td>\n",
       "      <td>0.0</td>\n",
       "      <td>398.0</td>\n",
       "      <td>167.0</td>\n",
       "      <td>2.0</td>\n",
       "      <td>3.0</td>\n",
       "      <td>2.0</td>\n",
       "      <td>1.0</td>\n",
       "      <td>45.0</td>\n",
       "      <td>48.0</td>\n",
       "    </tr>\n",
       "    <tr>\n",
       "      <td>monkey</td>\n",
       "      <td>189.0</td>\n",
       "      <td>0.0</td>\n",
       "      <td>432.0</td>\n",
       "      <td>88.0</td>\n",
       "      <td>1.0</td>\n",
       "      <td>3.0</td>\n",
       "      <td>1.0</td>\n",
       "      <td>2.0</td>\n",
       "      <td>78.0</td>\n",
       "      <td>6.0</td>\n",
       "    </tr>\n",
       "    <tr>\n",
       "      <td>ship</td>\n",
       "      <td>21.0</td>\n",
       "      <td>4.0</td>\n",
       "      <td>351.0</td>\n",
       "      <td>34.0</td>\n",
       "      <td>9.0</td>\n",
       "      <td>2.0</td>\n",
       "      <td>0.0</td>\n",
       "      <td>1.0</td>\n",
       "      <td>39.0</td>\n",
       "      <td>339.0</td>\n",
       "    </tr>\n",
       "    <tr>\n",
       "      <td>truck</td>\n",
       "      <td>97.0</td>\n",
       "      <td>1.0</td>\n",
       "      <td>275.0</td>\n",
       "      <td>69.0</td>\n",
       "      <td>27.0</td>\n",
       "      <td>3.0</td>\n",
       "      <td>1.0</td>\n",
       "      <td>1.0</td>\n",
       "      <td>20.0</td>\n",
       "      <td>306.0</td>\n",
       "    </tr>\n",
       "  </tbody>\n",
       "</table>\n",
       "</div>"
      ],
      "text/plain": [
       "          Cluster bird  Cluster cat  Cluster cat  Cluster horse  Cluster car  \\\n",
       "airplane          30.0          2.0        446.0           25.0         10.0   \n",
       "bird             231.0          2.0        307.0          107.0          4.0   \n",
       "car              126.0          0.0        249.0           88.0         25.0   \n",
       "cat              110.0          2.0        482.0           98.0          1.0   \n",
       "deer             206.0          0.0        391.0           76.0          8.0   \n",
       "dog              146.0          3.0        391.0          110.0          2.0   \n",
       "horse            134.0          0.0        398.0          167.0          2.0   \n",
       "monkey           189.0          0.0        432.0           88.0          1.0   \n",
       "ship              21.0          4.0        351.0           34.0          9.0   \n",
       "truck             97.0          1.0        275.0           69.0         27.0   \n",
       "\n",
       "          Cluster bird  Cluster bird  Cluster bird  Cluster bird  Cluster car  \n",
       "airplane           3.0           2.0           0.0          15.0        267.0  \n",
       "bird              10.0           2.0           3.0         113.0         21.0  \n",
       "car                9.0           1.0           1.0           8.0        293.0  \n",
       "cat                1.0           0.0           0.0          89.0         17.0  \n",
       "deer               2.0           1.0           0.0          33.0         83.0  \n",
       "dog                7.0           1.0           1.0         112.0         27.0  \n",
       "horse              3.0           2.0           1.0          45.0         48.0  \n",
       "monkey             3.0           1.0           2.0          78.0          6.0  \n",
       "ship               2.0           0.0           1.0          39.0        339.0  \n",
       "truck              3.0           1.0           1.0          20.0        306.0  "
      ]
     },
     "execution_count": 26,
     "metadata": {},
     "output_type": "execute_result"
    }
   ],
   "source": [
    "col_list = []\n",
    "for i in range(10):\n",
    "    col_list.append(\"Cluster \" + str(named_cluster_dict[i]))\n",
    "idx_list = ['airplane', 'bird', 'car', 'cat', 'deer', 'dog', 'horse', 'monkey', 'ship', 'truck']\n",
    "print(idx_list)\n",
    "print(col_list)\n",
    "pd.DataFrame(label_table2, columns = col_list, index = idx_list)"
   ]
  },
  {
   "cell_type": "markdown",
   "metadata": {},
   "source": [
    "Note that sometimes a label is chosen to be assigned to two clusters. That is a limitation of the method of assigning labels.\n",
    "The total accuracy then is how many classes are assigned to the properly named clusters divided by the total amount of the dataset"
   ]
  },
  {
   "cell_type": "code",
   "execution_count": 27,
   "metadata": {},
   "outputs": [
    {
     "name": "stdout",
     "output_type": "stream",
     "text": [
      "(8000,) (8000,)\n",
      "Final accuracy:  [0.166]\n"
     ]
    }
   ],
   "source": [
    "total_correct = np.zeros((test_labels.shape[0]))\n",
    "print(test_predictions_converted.shape, test_labels.shape)\n",
    "total_correct[test_predictions_converted == test_labels] = 1\n",
    "gmm_scratch_accuracy = total_correct.sum()/test_labels.shape\n",
    "print(\"Final accuracy: \",total_correct.sum()/test_labels.shape)"
   ]
  },
  {
   "cell_type": "markdown",
   "metadata": {},
   "source": [
    "While not exactly high, the accuracy is still better than pure random which is expected to be 10% or num_classes/total_classes\n",
    "\n",
    "(Runs seem to make this vary from ~15-20%)"
   ]
  },
  {
   "cell_type": "markdown",
   "metadata": {},
   "source": [
    "# GMM Reproduction attempt"
   ]
  },
  {
   "cell_type": "code",
   "execution_count": 28,
   "metadata": {},
   "outputs": [
    {
     "name": "stdout",
     "output_type": "stream",
     "text": [
      "(100, 384)\n",
      "(10, 384)\n"
     ]
    }
   ],
   "source": [
    "\n",
    "rv = [multivariate_normal(gmm_mu[i], gmm_sig[i], allow_singular = True) for i in range(n_comp)]\n",
    "final_sample = 0\n",
    "sample_amount = 100\n",
    "for i in range(n_comp):\n",
    "    final_sample += gmm_w[i]*(rv[i].rvs(sample_amount))\n",
    "    \n",
    "print(final_sample.shape)\n",
    "print(rv[0].rvs(10).shape)"
   ]
  },
  {
   "cell_type": "code",
   "execution_count": 29,
   "metadata": {},
   "outputs": [
    {
     "name": "stdout",
     "output_type": "stream",
     "text": [
      "Processing dim 128\n"
     ]
    },
    {
     "data": {
      "image/png": "[encoded data removed]",
      "text/plain": [
       "<Figure size 1080x576 with 18 Axes>"
      ]
     },
     "metadata": {},
     "output_type": "display_data"
    }
   ],
   "source": [
    "#Note that I used powers of 2 for the dim. I suspect the dim_list given by sir had typos\n",
    "dim_list = [optim_z_dim]\n",
    "\n",
    "print(\"Processing dim\", dim_list[0])\n",
    "\n",
    "R_list = []\n",
    "for j in range(3):\n",
    "    B_m_sample = B_list[j][:,:dim_list[0]].copy()\n",
    "    R_list.append(np.matmul(final_sample[:,optim_z_dim*j:optim_z_dim*(j+1)],B_m_sample.transpose()))\n",
    "\n",
    "\n",
    "R = np.concatenate((R_list[0].reshape(-1,resize_hw,resize_hw,1),R_list[1].reshape(-1,resize_hw,resize_hw,1),R_list[2].reshape(-1,resize_hw,resize_hw,1)),axis = 3)\n",
    "R = np.reshape(R, (100,resize_hw,resize_hw,3))\n",
    "\n",
    "R[:,:,:,0] *= train_std_0\n",
    "R[:,:,:,1] *= train_std_1\n",
    "R[:,:,:,2] *= train_std_2\n",
    "R[:,:,:,0] += train_mean_0\n",
    "R[:,:,:,1] += train_mean_1\n",
    "R[:,:,:,2] += train_mean_2    \n",
    "\n",
    "\n",
    "f, axarr = plt.subplots(3,6, figsize = (15,8))\n",
    "for i,ax in enumerate(axarr.ravel()):\n",
    "    try:\n",
    "        ax.imshow(R[i])\n",
    "        ax.set_xticks([])\n",
    "        ax.set_yticks([])\n",
    "    except IndexError:\n",
    "        break\n",
    "plt.show()\n",
    "\n"
   ]
  },
  {
   "cell_type": "markdown",
   "metadata": {},
   "source": [
    "# Why GMM did not work very well? Experimental/Tentaive Justification\n",
    "\n",
    "When I tried to use GMM on MNIST it took 500 components to be able to generate a sample I suspect this has somethign to do with the limitations of my GMM's performance. Here I use mixture.GMM"
   ]
  },
  {
   "cell_type": "code",
   "execution_count": 30,
   "metadata": {},
   "outputs": [],
   "source": [
    "from tensorflow.keras.datasets import mnist\n",
    "(x_train, y_train), (x_test, y_train) = mnist.load_data()\n",
    "\n",
    "idx = np.random.randint(0, 60000, size = 10000)\n",
    "x_train = x_train[idx]\n",
    "del x_test\n",
    "x_train = np.float32(x_train)/255"
   ]
  },
  {
   "cell_type": "code",
   "execution_count": 31,
   "metadata": {},
   "outputs": [],
   "source": [
    "x_mean = np.mean(x_train)\n",
    "x_std = np.std(x_train)\n",
    "x_train -= x_mean\n",
    "x_train /= x_std"
   ]
  },
  {
   "cell_type": "code",
   "execution_count": 32,
   "metadata": {},
   "outputs": [
    {
     "name": "stdout",
     "output_type": "stream",
     "text": [
      "Done obtaining S\n"
     ]
    }
   ],
   "source": [
    "x_train = np.reshape(x_train, (-1,28*28))\n",
    "#Covariance Matrix\n",
    "S_x = np.matmul(np.transpose(x_train), x_train)/10000\n",
    "print(\"Done obtaining S\")\n",
    "#Obtain eigenvectors\n",
    "D_x,B_x = la.eig(S_x, left = True, right = False)\n",
    "\n",
    "D_x, B_x = np.real(D_x), np.real(B_x)"
   ]
  },
  {
   "cell_type": "code",
   "execution_count": 33,
   "metadata": {},
   "outputs": [],
   "source": [
    "# Obtain Mnist Zcodes\n",
    "B_mx = np.real(B_x)[:,:512].copy()\n",
    "x_z_codes = np.matmul(x_train, B_mx)\n",
    "x_z_codes = x_z_codes.transpose()"
   ]
  },
  {
   "cell_type": "code",
   "execution_count": 34,
   "metadata": {},
   "outputs": [
    {
     "name": "stdout",
     "output_type": "stream",
     "text": [
      "Done fitting\n"
     ]
    }
   ],
   "source": [
    "scikit_10 = mixture.GaussianMixture(n_components = 10, covariance_type = 'spherical', max_iter = 100, tol = 0.001, random_state = 0)\n",
    "scikit_10.fit(x_z_codes.transpose())\n",
    "\n",
    "scikit_100 = mixture.GaussianMixture(n_components = 100, covariance_type = 'spherical', max_iter = 100, tol = 0.001, random_state = 0)\n",
    "scikit_100.fit(x_z_codes.transpose())\n",
    "\n",
    "scikit_500 = mixture.GaussianMixture(n_components = 500, covariance_type = 'spherical', max_iter = 100, tol = 0.001, random_state = 0)\n",
    "scikit_500.fit(x_z_codes.transpose())\n",
    "print(\"Done fitting\")"
   ]
  },
  {
   "cell_type": "code",
   "execution_count": 35,
   "metadata": {},
   "outputs": [
    {
     "data": {
      "image/png": "[encoded data removed]",
      "text/plain": [
       "<Figure size 1080x864 with 9 Axes>"
      ]
     },
     "metadata": {},
     "output_type": "display_data"
    }
   ],
   "source": [
    "sample_10, _ = scikit_10.sample(100)\n",
    "sample_100, _ = scikit_100.sample(100)\n",
    "sample_500, _ = scikit_500.sample(100)\n",
    "\n",
    "\n",
    "\n",
    "new_image_10 = np.matmul(sample_10[0],B_mx.transpose())\n",
    "new_image_100 = np.matmul(sample_100[0],B_mx.transpose())\n",
    "new_image_500 = np.matmul(sample_500[0],B_mx.transpose())\n",
    "\n",
    "new_images_list = []\n",
    "new_images_list.append(np.matmul(sample_10[0],B_mx.transpose()))\n",
    "new_images_list.append(np.matmul(sample_10[5],B_mx.transpose()))\n",
    "new_images_list.append(np.matmul(sample_10[7],B_mx.transpose()))\n",
    "new_images_list.append(np.matmul(sample_100[0],B_mx.transpose()))\n",
    "new_images_list.append(np.matmul(sample_100[5],B_mx.transpose()))\n",
    "new_images_list.append(np.matmul(sample_100[7],B_mx.transpose()))\n",
    "new_images_list.append(np.matmul(sample_500[0],B_mx.transpose()))\n",
    "new_images_list.append(np.matmul(sample_500[5],B_mx.transpose()))\n",
    "new_images_list.append(np.matmul(sample_500[7],B_mx.transpose()))\n",
    "f, axarr = plt.subplots(3,3, figsize = (15,12))\n",
    "for i,ax in enumerate(axarr.ravel()):\n",
    "    ax.imshow(new_images_list[i].reshape((28,28)), cmap = 'gray')\n",
    "    ax.set_xticks([])\n",
    "    ax.set_yticks([])\n",
    "    \n",
    "    if i < 3:\n",
    "        ax.set_title(\"Generated Image\\n GMM (10 comp)\")\n",
    "    elif i < 6:\n",
    "        \n",
    "        ax.set_title(\"Generated Image\\n GMM (100 comp)\")\n",
    "    else:\n",
    "        ax.set_title(\"Generated Image\\n GMM (500 comp)\")\n",
    "        \n",
    "        \n",
    "plt.show()"
   ]
  },
  {
   "cell_type": "markdown",
   "metadata": {},
   "source": [
    "As can be seen the generative model at a GMM of 10 components is practically just noise, when compared to the one with hundreds of components. It seems then that a GMM of 10 components is not enough to accurately make a generator for STL. Note that even the higher dimensions are struggling possibly because I am using a low z dimensions"
   ]
  },
  {
   "cell_type": "markdown",
   "metadata": {},
   "source": [
    "# Using mixture.Gaussian to predict\n",
    "## Warning: Some variable names are reused it would be best not to rerun anything above once you get past this point. Either that or rerun the entire thing"
   ]
  },
  {
   "cell_type": "code",
   "execution_count": 36,
   "metadata": {},
   "outputs": [
    {
     "name": "stdout",
     "output_type": "stream",
     "text": [
      "3045772.220657246\n",
      "-304.57722206572464\n"
     ]
    }
   ],
   "source": [
    "scikit_10 = mixture.GaussianMixture(n_components = 10, covariance_type = 'full', max_iter = 100, tol = 0.001, random_state = 0)\n",
    "scikit_10.fit(z_codes_uni)\n",
    "a = -10000*scikit_10.score(z_codes_uni)\n",
    "print(a)\n",
    "print(a/-10000)\n"
   ]
  },
  {
   "cell_type": "code",
   "execution_count": 37,
   "metadata": {},
   "outputs": [
    {
     "name": "stdout",
     "output_type": "stream",
     "text": [
      "(5000, 384)\n",
      "(5000,)\n",
      "0 9\n"
     ]
    }
   ],
   "source": [
    "\n",
    "print(train_z_codes.shape)\n",
    "train_predictions = scikit_10.predict(train_z_codes)\n",
    "print(train_predictions.shape)\n",
    "print(train_predictions.min(), train_predictions.max())\n",
    "test_predictions = scikit_10.predict(test_z_codes)"
   ]
  },
  {
   "cell_type": "code",
   "execution_count": null,
   "metadata": {},
   "outputs": [],
   "source": []
  },
  {
   "cell_type": "code",
   "execution_count": 38,
   "metadata": {},
   "outputs": [
    {
     "name": "stdout",
     "output_type": "stream",
     "text": [
      "[[  8.  12.  31. 236.  45.  64.  55.   1.   7.  41.]\n",
      " [113.   1.   0. 122. 104.   1. 151.   2.   2.   4.]\n",
      " [ 36.   3.  26.  86.  30. 114.  87.   8.   5. 105.]\n",
      " [110.   0.   0. 256.  40.   0.  84.   2.   5.   3.]\n",
      " [176.   0.   0. 149.  68.   0.  86.   2.   9.  10.]\n",
      " [ 90.   1.   0. 201.  68.   0. 132.   0.   5.   3.]\n",
      " [124.   0.   0. 152.  94.   0. 104.   4.   9.  13.]\n",
      " [135.   3.   0. 170.  70.   0. 115.   1.   2.   4.]\n",
      " [  6.  22. 121. 160.  23.  61.  60.   0.   3.  44.]\n",
      " [ 25.   7.  53.  97.  39.  92.  81.   1.   3. 102.]]\n"
     ]
    }
   ],
   "source": [
    "#Obtain the labels\n",
    "train_labels = read_labels(train_label_path)\n",
    "train_labels -= 1\n",
    "#Obtain the indices corresponding to each label\n",
    "idx_list = []\n",
    "for i in range(1,11):\n",
    "    idx_list.append(np.where(train_labels == i)[0])\n",
    "\n",
    "\n",
    "correct = np.zeros((10,train_labels.shape[0]))\n",
    "comp = np.zeros((10,train_labels.shape[0]))\n",
    "final = np.zeros((10,train_labels.shape[0]))\n",
    "total_pred = np.zeros((10,train_labels.shape[0]))\n",
    "\n",
    "label_table = np.zeros((10,10))\n",
    "temp1 = np.zeros((train_labels.shape[0]))\n",
    "for i in range(10):\n",
    "    for j in range(10):\n",
    "        \n",
    "        temp1 = np.zeros((train_labels.shape[0]))\n",
    "        temp1[(train_predictions == j) & (train_labels == i)] = 1\n",
    "        label_table[i][j] = temp1.sum()\n",
    "        \n",
    "\n",
    "print(label_table)"
   ]
  },
  {
   "cell_type": "code",
   "execution_count": 39,
   "metadata": {},
   "outputs": [
    {
     "name": "stdout",
     "output_type": "stream",
     "text": [
      "['Cluster 0', 'Cluster 1', 'Cluster 2', 'Cluster 3', 'Cluster 4', 'Cluster 5', 'Cluster 6', 'Cluster 7', 'Cluster 8', 'Cluster 9']\n"
     ]
    },
    {
     "data": {
      "text/html": [
       "<div>\n",
       "<style scoped>\n",
       "    .dataframe tbody tr th:only-of-type {\n",
       "        vertical-align: middle;\n",
       "    }\n",
       "\n",
       "    .dataframe tbody tr th {\n",
       "        vertical-align: top;\n",
       "    }\n",
       "\n",
       "    .dataframe thead th {\n",
       "        text-align: right;\n",
       "    }\n",
       "</style>\n",
       "<table border=\"1\" class=\"dataframe\">\n",
       "  <thead>\n",
       "    <tr style=\"text-align: right;\">\n",
       "      <th></th>\n",
       "      <th>Cluster 0</th>\n",
       "      <th>Cluster 1</th>\n",
       "      <th>Cluster 2</th>\n",
       "      <th>Cluster 3</th>\n",
       "      <th>Cluster 4</th>\n",
       "      <th>Cluster 5</th>\n",
       "      <th>Cluster 6</th>\n",
       "      <th>Cluster 7</th>\n",
       "      <th>Cluster 8</th>\n",
       "      <th>Cluster 9</th>\n",
       "    </tr>\n",
       "  </thead>\n",
       "  <tbody>\n",
       "    <tr>\n",
       "      <td>airplane</td>\n",
       "      <td>8.0</td>\n",
       "      <td>12.0</td>\n",
       "      <td>31.0</td>\n",
       "      <td>236.0</td>\n",
       "      <td>45.0</td>\n",
       "      <td>64.0</td>\n",
       "      <td>55.0</td>\n",
       "      <td>1.0</td>\n",
       "      <td>7.0</td>\n",
       "      <td>41.0</td>\n",
       "    </tr>\n",
       "    <tr>\n",
       "      <td>bird</td>\n",
       "      <td>113.0</td>\n",
       "      <td>1.0</td>\n",
       "      <td>0.0</td>\n",
       "      <td>122.0</td>\n",
       "      <td>104.0</td>\n",
       "      <td>1.0</td>\n",
       "      <td>151.0</td>\n",
       "      <td>2.0</td>\n",
       "      <td>2.0</td>\n",
       "      <td>4.0</td>\n",
       "    </tr>\n",
       "    <tr>\n",
       "      <td>car</td>\n",
       "      <td>36.0</td>\n",
       "      <td>3.0</td>\n",
       "      <td>26.0</td>\n",
       "      <td>86.0</td>\n",
       "      <td>30.0</td>\n",
       "      <td>114.0</td>\n",
       "      <td>87.0</td>\n",
       "      <td>8.0</td>\n",
       "      <td>5.0</td>\n",
       "      <td>105.0</td>\n",
       "    </tr>\n",
       "    <tr>\n",
       "      <td>cat</td>\n",
       "      <td>110.0</td>\n",
       "      <td>0.0</td>\n",
       "      <td>0.0</td>\n",
       "      <td>256.0</td>\n",
       "      <td>40.0</td>\n",
       "      <td>0.0</td>\n",
       "      <td>84.0</td>\n",
       "      <td>2.0</td>\n",
       "      <td>5.0</td>\n",
       "      <td>3.0</td>\n",
       "    </tr>\n",
       "    <tr>\n",
       "      <td>deer</td>\n",
       "      <td>176.0</td>\n",
       "      <td>0.0</td>\n",
       "      <td>0.0</td>\n",
       "      <td>149.0</td>\n",
       "      <td>68.0</td>\n",
       "      <td>0.0</td>\n",
       "      <td>86.0</td>\n",
       "      <td>2.0</td>\n",
       "      <td>9.0</td>\n",
       "      <td>10.0</td>\n",
       "    </tr>\n",
       "    <tr>\n",
       "      <td>dog</td>\n",
       "      <td>90.0</td>\n",
       "      <td>1.0</td>\n",
       "      <td>0.0</td>\n",
       "      <td>201.0</td>\n",
       "      <td>68.0</td>\n",
       "      <td>0.0</td>\n",
       "      <td>132.0</td>\n",
       "      <td>0.0</td>\n",
       "      <td>5.0</td>\n",
       "      <td>3.0</td>\n",
       "    </tr>\n",
       "    <tr>\n",
       "      <td>horse</td>\n",
       "      <td>124.0</td>\n",
       "      <td>0.0</td>\n",
       "      <td>0.0</td>\n",
       "      <td>152.0</td>\n",
       "      <td>94.0</td>\n",
       "      <td>0.0</td>\n",
       "      <td>104.0</td>\n",
       "      <td>4.0</td>\n",
       "      <td>9.0</td>\n",
       "      <td>13.0</td>\n",
       "    </tr>\n",
       "    <tr>\n",
       "      <td>monkey</td>\n",
       "      <td>135.0</td>\n",
       "      <td>3.0</td>\n",
       "      <td>0.0</td>\n",
       "      <td>170.0</td>\n",
       "      <td>70.0</td>\n",
       "      <td>0.0</td>\n",
       "      <td>115.0</td>\n",
       "      <td>1.0</td>\n",
       "      <td>2.0</td>\n",
       "      <td>4.0</td>\n",
       "    </tr>\n",
       "    <tr>\n",
       "      <td>ship</td>\n",
       "      <td>6.0</td>\n",
       "      <td>22.0</td>\n",
       "      <td>121.0</td>\n",
       "      <td>160.0</td>\n",
       "      <td>23.0</td>\n",
       "      <td>61.0</td>\n",
       "      <td>60.0</td>\n",
       "      <td>0.0</td>\n",
       "      <td>3.0</td>\n",
       "      <td>44.0</td>\n",
       "    </tr>\n",
       "    <tr>\n",
       "      <td>truck</td>\n",
       "      <td>25.0</td>\n",
       "      <td>7.0</td>\n",
       "      <td>53.0</td>\n",
       "      <td>97.0</td>\n",
       "      <td>39.0</td>\n",
       "      <td>92.0</td>\n",
       "      <td>81.0</td>\n",
       "      <td>1.0</td>\n",
       "      <td>3.0</td>\n",
       "      <td>102.0</td>\n",
       "    </tr>\n",
       "  </tbody>\n",
       "</table>\n",
       "</div>"
      ],
      "text/plain": [
       "          Cluster 0  Cluster 1  Cluster 2  Cluster 3  Cluster 4  Cluster 5  \\\n",
       "airplane        8.0       12.0       31.0      236.0       45.0       64.0   \n",
       "bird          113.0        1.0        0.0      122.0      104.0        1.0   \n",
       "car            36.0        3.0       26.0       86.0       30.0      114.0   \n",
       "cat           110.0        0.0        0.0      256.0       40.0        0.0   \n",
       "deer          176.0        0.0        0.0      149.0       68.0        0.0   \n",
       "dog            90.0        1.0        0.0      201.0       68.0        0.0   \n",
       "horse         124.0        0.0        0.0      152.0       94.0        0.0   \n",
       "monkey        135.0        3.0        0.0      170.0       70.0        0.0   \n",
       "ship            6.0       22.0      121.0      160.0       23.0       61.0   \n",
       "truck          25.0        7.0       53.0       97.0       39.0       92.0   \n",
       "\n",
       "          Cluster 6  Cluster 7  Cluster 8  Cluster 9  \n",
       "airplane       55.0        1.0        7.0       41.0  \n",
       "bird          151.0        2.0        2.0        4.0  \n",
       "car            87.0        8.0        5.0      105.0  \n",
       "cat            84.0        2.0        5.0        3.0  \n",
       "deer           86.0        2.0        9.0       10.0  \n",
       "dog           132.0        0.0        5.0        3.0  \n",
       "horse         104.0        4.0        9.0       13.0  \n",
       "monkey        115.0        1.0        2.0        4.0  \n",
       "ship           60.0        0.0        3.0       44.0  \n",
       "truck          81.0        1.0        3.0      102.0  "
      ]
     },
     "execution_count": 39,
     "metadata": {},
     "output_type": "execute_result"
    }
   ],
   "source": [
    "import pandas as pd\n",
    "\n",
    "col_list = []\n",
    "idx_list = ['airplane', 'bird', 'car', 'cat', 'deer', 'dog', 'horse', 'monkey', 'ship', 'truck']\n",
    "for i in range(10):\n",
    "    col_list.append('Cluster ' + str(i))\n",
    "print(col_list)\n",
    "pd.DataFrame(label_table, columns = col_list, index = idx_list)"
   ]
  },
  {
   "cell_type": "markdown",
   "metadata": {},
   "source": [
    "Now we assign labels to the clusters. For each cluster we take the class that has the most predictions and label it as that cluster."
   ]
  },
  {
   "cell_type": "code",
   "execution_count": 40,
   "metadata": {},
   "outputs": [
    {
     "name": "stdout",
     "output_type": "stream",
     "text": [
      "{0: 'deer', 1: 'ship', 2: 'ship', 3: 'cat', 4: 'bird', 5: 'car', 6: 'bird', 7: 'car', 8: 'deer', 9: 'car'}\n",
      "{0: 4, 1: 8, 2: 8, 3: 3, 4: 1, 5: 2, 6: 1, 7: 2, 8: 4, 9: 2}\n"
     ]
    }
   ],
   "source": [
    "named_cluster_dict = {}\n",
    "number_cluster_dict = {}\n",
    "for i in range(10):\n",
    "    named_cluster_dict[i] = idx_list[np.argmax(label_table[:,i])]\n",
    "\n",
    "\n",
    "for i in range(10):\n",
    "    number_cluster_dict[i] = np.argmax(label_table[:,i])\n",
    "print(named_cluster_dict)\n",
    "print(number_cluster_dict)"
   ]
  },
  {
   "cell_type": "code",
   "execution_count": 41,
   "metadata": {},
   "outputs": [
    {
     "name": "stdout",
     "output_type": "stream",
     "text": [
      "[0 6 3 ... 6 5 3]\n",
      "[4 1 3 ... 1 2 3]\n"
     ]
    }
   ],
   "source": [
    "#Edit the test predictions from before\n",
    "#https://stackoverflow.com/questions/3403973/fast-replacement-of-values-in-a-numpy-array\n",
    "test_predictions_converted = np.copy(test_predictions)\n",
    "for k, v in number_cluster_dict.items(): test_predictions_converted[test_predictions == k] = v\n",
    "print(test_predictions)\n",
    "print(test_predictions_converted)"
   ]
  },
  {
   "cell_type": "code",
   "execution_count": 42,
   "metadata": {},
   "outputs": [
    {
     "name": "stdout",
     "output_type": "stream",
     "text": [
      "[[ 22.  14.  71. 410.  71.  60.  70.   2.   6.  74.]\n",
      " [166.   5.   0. 233. 161.   0. 217.   2.   3.  13.]\n",
      " [ 38.   6.  50. 141.  37. 185. 144.   8.   7. 184.]\n",
      " [163.   0.   0. 383.  74.   1. 160.   5.   4.  10.]\n",
      " [239.   2.   0. 263.  93.   3. 169.   3.  17.  11.]\n",
      " [178.   1.   0. 301.  81.   0. 220.   2.   9.   8.]\n",
      " [209.   1.   0. 228. 144.   2. 170.   6.  15.  25.]\n",
      " [235.   1.   0. 280.  82.   0. 178.   9.   9.   6.]\n",
      " [ 10.  24. 206. 236.  29. 131.  86.   1.   5.  72.]\n",
      " [ 32.  15.  88. 150.  56. 161. 116.   8.   6. 168.]]\n",
      "[800. 800. 800. 800. 800. 800. 800. 800. 800. 800.] [1292.   69.  415. 2625.  828.  543. 1530.   46.   81.  571.]\n"
     ]
    }
   ],
   "source": [
    "#Obtain the test labels\n",
    "test_labels = read_labels(test_label_path)\n",
    "test_labels -= 1\n",
    "#Obtain the indices corresponding to each label\n",
    "idx_list = []\n",
    "for i in range(1,11):\n",
    "    idx_list.append(np.where(test_labels == i)[0])\n",
    "\n",
    "\n",
    "correct = np.zeros((10,test_labels.shape[0]))\n",
    "comp = np.zeros((10,test_labels.shape[0]))\n",
    "final = np.zeros((10,test_labels.shape[0]))\n",
    "total_pred = np.zeros((10,test_labels.shape[0]))\n",
    "\n",
    "label_table2 = np.zeros((10,10))\n",
    "temp1 = np.zeros((test_labels.shape[0]))\n",
    "for i in range(10):\n",
    "    for j in range(10):\n",
    "        \n",
    "        temp1 = np.zeros((test_labels.shape[0]))\n",
    "        temp1[(test_predictions == j) & (test_labels == i)] = 1\n",
    "        label_table2[i][j] = temp1.sum()\n",
    "        \n",
    "\n",
    "print(label_table2)\n",
    "print(label_table2.sum(axis = 1), label_table2.sum(axis = 0))"
   ]
  },
  {
   "cell_type": "code",
   "execution_count": 43,
   "metadata": {},
   "outputs": [
    {
     "name": "stdout",
     "output_type": "stream",
     "text": [
      "['airplane', 'bird', 'car', 'cat', 'deer', 'dog', 'horse', 'monkey', 'ship', 'truck']\n",
      "['Cluster deer', 'Cluster ship', 'Cluster ship', 'Cluster cat', 'Cluster bird', 'Cluster car', 'Cluster bird', 'Cluster car', 'Cluster deer', 'Cluster car']\n"
     ]
    },
    {
     "data": {
      "text/html": [
       "<div>\n",
       "<style scoped>\n",
       "    .dataframe tbody tr th:only-of-type {\n",
       "        vertical-align: middle;\n",
       "    }\n",
       "\n",
       "    .dataframe tbody tr th {\n",
       "        vertical-align: top;\n",
       "    }\n",
       "\n",
       "    .dataframe thead th {\n",
       "        text-align: right;\n",
       "    }\n",
       "</style>\n",
       "<table border=\"1\" class=\"dataframe\">\n",
       "  <thead>\n",
       "    <tr style=\"text-align: right;\">\n",
       "      <th></th>\n",
       "      <th>Cluster deer</th>\n",
       "      <th>Cluster ship</th>\n",
       "      <th>Cluster ship</th>\n",
       "      <th>Cluster cat</th>\n",
       "      <th>Cluster bird</th>\n",
       "      <th>Cluster car</th>\n",
       "      <th>Cluster bird</th>\n",
       "      <th>Cluster car</th>\n",
       "      <th>Cluster deer</th>\n",
       "      <th>Cluster car</th>\n",
       "    </tr>\n",
       "  </thead>\n",
       "  <tbody>\n",
       "    <tr>\n",
       "      <td>airplane</td>\n",
       "      <td>22.0</td>\n",
       "      <td>14.0</td>\n",
       "      <td>71.0</td>\n",
       "      <td>410.0</td>\n",
       "      <td>71.0</td>\n",
       "      <td>60.0</td>\n",
       "      <td>70.0</td>\n",
       "      <td>2.0</td>\n",
       "      <td>6.0</td>\n",
       "      <td>74.0</td>\n",
       "    </tr>\n",
       "    <tr>\n",
       "      <td>bird</td>\n",
       "      <td>166.0</td>\n",
       "      <td>5.0</td>\n",
       "      <td>0.0</td>\n",
       "      <td>233.0</td>\n",
       "      <td>161.0</td>\n",
       "      <td>0.0</td>\n",
       "      <td>217.0</td>\n",
       "      <td>2.0</td>\n",
       "      <td>3.0</td>\n",
       "      <td>13.0</td>\n",
       "    </tr>\n",
       "    <tr>\n",
       "      <td>car</td>\n",
       "      <td>38.0</td>\n",
       "      <td>6.0</td>\n",
       "      <td>50.0</td>\n",
       "      <td>141.0</td>\n",
       "      <td>37.0</td>\n",
       "      <td>185.0</td>\n",
       "      <td>144.0</td>\n",
       "      <td>8.0</td>\n",
       "      <td>7.0</td>\n",
       "      <td>184.0</td>\n",
       "    </tr>\n",
       "    <tr>\n",
       "      <td>cat</td>\n",
       "      <td>163.0</td>\n",
       "      <td>0.0</td>\n",
       "      <td>0.0</td>\n",
       "      <td>383.0</td>\n",
       "      <td>74.0</td>\n",
       "      <td>1.0</td>\n",
       "      <td>160.0</td>\n",
       "      <td>5.0</td>\n",
       "      <td>4.0</td>\n",
       "      <td>10.0</td>\n",
       "    </tr>\n",
       "    <tr>\n",
       "      <td>deer</td>\n",
       "      <td>239.0</td>\n",
       "      <td>2.0</td>\n",
       "      <td>0.0</td>\n",
       "      <td>263.0</td>\n",
       "      <td>93.0</td>\n",
       "      <td>3.0</td>\n",
       "      <td>169.0</td>\n",
       "      <td>3.0</td>\n",
       "      <td>17.0</td>\n",
       "      <td>11.0</td>\n",
       "    </tr>\n",
       "    <tr>\n",
       "      <td>dog</td>\n",
       "      <td>178.0</td>\n",
       "      <td>1.0</td>\n",
       "      <td>0.0</td>\n",
       "      <td>301.0</td>\n",
       "      <td>81.0</td>\n",
       "      <td>0.0</td>\n",
       "      <td>220.0</td>\n",
       "      <td>2.0</td>\n",
       "      <td>9.0</td>\n",
       "      <td>8.0</td>\n",
       "    </tr>\n",
       "    <tr>\n",
       "      <td>horse</td>\n",
       "      <td>209.0</td>\n",
       "      <td>1.0</td>\n",
       "      <td>0.0</td>\n",
       "      <td>228.0</td>\n",
       "      <td>144.0</td>\n",
       "      <td>2.0</td>\n",
       "      <td>170.0</td>\n",
       "      <td>6.0</td>\n",
       "      <td>15.0</td>\n",
       "      <td>25.0</td>\n",
       "    </tr>\n",
       "    <tr>\n",
       "      <td>monkey</td>\n",
       "      <td>235.0</td>\n",
       "      <td>1.0</td>\n",
       "      <td>0.0</td>\n",
       "      <td>280.0</td>\n",
       "      <td>82.0</td>\n",
       "      <td>0.0</td>\n",
       "      <td>178.0</td>\n",
       "      <td>9.0</td>\n",
       "      <td>9.0</td>\n",
       "      <td>6.0</td>\n",
       "    </tr>\n",
       "    <tr>\n",
       "      <td>ship</td>\n",
       "      <td>10.0</td>\n",
       "      <td>24.0</td>\n",
       "      <td>206.0</td>\n",
       "      <td>236.0</td>\n",
       "      <td>29.0</td>\n",
       "      <td>131.0</td>\n",
       "      <td>86.0</td>\n",
       "      <td>1.0</td>\n",
       "      <td>5.0</td>\n",
       "      <td>72.0</td>\n",
       "    </tr>\n",
       "    <tr>\n",
       "      <td>truck</td>\n",
       "      <td>32.0</td>\n",
       "      <td>15.0</td>\n",
       "      <td>88.0</td>\n",
       "      <td>150.0</td>\n",
       "      <td>56.0</td>\n",
       "      <td>161.0</td>\n",
       "      <td>116.0</td>\n",
       "      <td>8.0</td>\n",
       "      <td>6.0</td>\n",
       "      <td>168.0</td>\n",
       "    </tr>\n",
       "  </tbody>\n",
       "</table>\n",
       "</div>"
      ],
      "text/plain": [
       "          Cluster deer  Cluster ship  Cluster ship  Cluster cat  Cluster bird  \\\n",
       "airplane          22.0          14.0          71.0        410.0          71.0   \n",
       "bird             166.0           5.0           0.0        233.0         161.0   \n",
       "car               38.0           6.0          50.0        141.0          37.0   \n",
       "cat              163.0           0.0           0.0        383.0          74.0   \n",
       "deer             239.0           2.0           0.0        263.0          93.0   \n",
       "dog              178.0           1.0           0.0        301.0          81.0   \n",
       "horse            209.0           1.0           0.0        228.0         144.0   \n",
       "monkey           235.0           1.0           0.0        280.0          82.0   \n",
       "ship              10.0          24.0         206.0        236.0          29.0   \n",
       "truck             32.0          15.0          88.0        150.0          56.0   \n",
       "\n",
       "          Cluster car  Cluster bird  Cluster car  Cluster deer  Cluster car  \n",
       "airplane         60.0          70.0          2.0           6.0         74.0  \n",
       "bird              0.0         217.0          2.0           3.0         13.0  \n",
       "car             185.0         144.0          8.0           7.0        184.0  \n",
       "cat               1.0         160.0          5.0           4.0         10.0  \n",
       "deer              3.0         169.0          3.0          17.0         11.0  \n",
       "dog               0.0         220.0          2.0           9.0          8.0  \n",
       "horse             2.0         170.0          6.0          15.0         25.0  \n",
       "monkey            0.0         178.0          9.0           9.0          6.0  \n",
       "ship            131.0          86.0          1.0           5.0         72.0  \n",
       "truck           161.0         116.0          8.0           6.0        168.0  "
      ]
     },
     "execution_count": 43,
     "metadata": {},
     "output_type": "execute_result"
    }
   ],
   "source": [
    "col_list = []\n",
    "for i in range(10):\n",
    "    col_list.append(\"Cluster \" + str(named_cluster_dict[i]))\n",
    "idx_list = ['airplane', 'bird', 'car', 'cat', 'deer', 'dog', 'horse', 'monkey', 'ship', 'truck']\n",
    "print(idx_list)\n",
    "print(col_list)\n",
    "pd.DataFrame(label_table2, columns = col_list, index = idx_list)"
   ]
  },
  {
   "cell_type": "markdown",
   "metadata": {},
   "source": [
    "Note that sometimes a label is chosen to be assigned to two clusters. That is a limitation of the method of assigning labels.\n",
    "The total accuracy then is how many classes are assigned to the properly named clusters divided by the total amount of the dataset"
   ]
  },
  {
   "cell_type": "code",
   "execution_count": 44,
   "metadata": {},
   "outputs": [
    {
     "name": "stdout",
     "output_type": "stream",
     "text": [
      "(8000,) (8000,)\n",
      "Final accuracy:  [0.203]\n"
     ]
    }
   ],
   "source": [
    "total_correct = np.zeros((test_labels.shape[0]))\n",
    "print(test_predictions_converted.shape, test_labels.shape)\n",
    "total_correct[test_predictions_converted == test_labels] = 1\n",
    "print(\"Final accuracy: \",total_correct.sum()/test_labels.shape)"
   ]
  },
  {
   "cell_type": "code",
   "execution_count": 45,
   "metadata": {},
   "outputs": [
    {
     "name": "stdout",
     "output_type": "stream",
     "text": [
      "SKLearn accuracy:  [0.203]\n",
      "GMM from scratch accuracy:  [0.166]\n",
      "Accuracies seem to vary per from both approximately range ~15-20%\n"
     ]
    }
   ],
   "source": [
    "#Compare the accuracy of the two\n",
    "print(\"SKLearn accuracy: \",total_correct.sum()/test_labels.shape)\n",
    "print(\"GMM from scratch accuracy: \",gmm_scratch_accuracy)\n",
    "print(\"Accuracies seem to vary per from both approximately range ~15-20%\")"
   ]
  },
  {
   "cell_type": "code",
   "execution_count": 46,
   "metadata": {},
   "outputs": [
    {
     "name": "stdout",
     "output_type": "stream",
     "text": [
      "sklearn nll:  3045772.220657246  vs gmm nll:  3045762.078381017\n"
     ]
    }
   ],
   "source": [
    "#Compare the NLL\n",
    "#.score seems to be log likelihood avreage from the source code. Thus multiply by negative dataset size\n",
    "a = -10000*scikit_10.score(z_codes_uni)\n",
    "gmm_nll = nll[-1]\n",
    "\n",
    "print(\"sklearn nll: \", a, \" vs gmm nll: \", gmm_nll)"
   ]
  },
  {
   "cell_type": "markdown",
   "metadata": {},
   "source": [
    "### Note that the accuracy and nll are at around the same level\n",
    "### Note also that the nll for the gmm from scratch one may be skewed by the additive probability I used to prevent nans/infs"
   ]
  },
  {
   "cell_type": "code",
   "execution_count": null,
   "metadata": {},
   "outputs": [],
   "source": []
  }
 ],
 "metadata": {
  "kernelspec": {
   "display_name": "Python 3",
   "language": "python",
   "name": "python3"
  },
  "language_info": {
   "codemirror_mode": {
    "name": "ipython",
    "version": 3
   },
   "file_extension": ".py",
   "mimetype": "text/x-python",
   "name": "python",
   "nbconvert_exporter": "python",
   "pygments_lexer": "ipython3",
   "version": "3.6.9"
  }
 },
 "nbformat": 4,
 "nbformat_minor": 2
}
