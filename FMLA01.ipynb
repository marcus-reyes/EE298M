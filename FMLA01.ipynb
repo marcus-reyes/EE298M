{
  "nbformat": 4,
  "nbformat_minor": 0,
  "metadata": {
    "colab": {
      "name": "FMLA01Final.ipynb",
      "provenance": [],
      "collapsed_sections": []
    },
    "kernelspec": {
      "name": "python3",
      "display_name": "Python 3"
    }
  },
  "cells": [
    {
      "cell_type": "markdown",
      "metadata": {
        "id": "W3jdUUCNavOO"
      },
      "source": [
        "Reyes, Marcus\n",
        "EE298 FML\n",
        "Assignment 1"
      ]
    },
    {
      "cell_type": "code",
      "metadata": {
        "id": "jou2dlDtP9IG"
      },
      "source": [
        "import numpy as np\n",
        "import matplotlib.pyplot as plt\n",
        "import sys\n",
        "from math import pi"
      ],
      "execution_count": 8,
      "outputs": []
    },
    {
      "cell_type": "markdown",
      "metadata": {
        "id": "0x3b7CHwspY6"
      },
      "source": [
        "#Positional Encoding\n",
        "Given that the positional encoding matrix `B` is 16*16, then this means that I encode a position from `[0,15]` and this is encoded into a 16-dimension vector.\n",
        "\n",
        "From the [source](https://arxiv.org/pdf/1706.03762.pdf) of the reference code, each position in the dimension is encoded into an n-dimension representation using interweaving sin and cos functions. A different function is used in the following. But the idea remains the same"
      ]
    },
    {
      "cell_type": "markdown",
      "metadata": {
        "id": "IbDiy6QsgwfL"
      },
      "source": [
        "##Pos_encode function\n",
        "This performs positional encoding for a \"sentence\" with num_positions number of \"words\". It uses interweaving sine and cosine."
      ]
    },
    {
      "cell_type": "code",
      "metadata": {
        "id": "H5tIwmyPgy88"
      },
      "source": [
        "def pos_encode(num_positions = 16, enc_dimensions = 16, PE_func = 1):\n",
        "\n",
        "    '''Implements a positional encoding function based upon the position of the\n",
        "        word and the \"ith\" dimension of the encoding\n",
        "    \n",
        "        PE_func 1: PE(pos, i) = sin(freq*pos) for even i\n",
        "                  PE(pos, i) = cos(freq*pos) for odd i\n",
        "\n",
        "    '''\n",
        "    if PE_func == 1:\n",
        "        pos_enc_mat = np.zeros((num_positions, enc_dimensions))\n",
        "\n",
        "        #Choose 8 frequencies from (0,2pi].\n",
        "        inc = 2*pi/8\n",
        "        offset = pi/17\n",
        "        frequencies = np.arange(0 + inc+offset, 2*pi+ inc+offset, inc)\n",
        "        frequencies[-1] = 2*pi\n",
        "\n",
        "        #Range from 1 to 16 inclusive because otherwise I will have a row or\n",
        "        #column of 1 or 0s in my 16*16 matrix\n",
        "        positions = np.arange(1,17)\n",
        "\n",
        "        for i in range(num_positions):\n",
        "            #for row i using sin for even column cosine for odd\n",
        "            pos_enc_mat[i, 0::2] = np.sin(frequencies*positions[i])\n",
        "            pos_enc_mat[i, 1::2] = np.cos(frequencies*positions[i])\n",
        "    \n",
        "    return pos_enc_mat\n",
        "    "
      ],
      "execution_count": 9,
      "outputs": []
    },
    {
      "cell_type": "markdown",
      "metadata": {
        "id": "58KcLp7ahdFP"
      },
      "source": [
        "##Orthogonalize and Normalize Functions"
      ]
    },
    {
      "cell_type": "code",
      "metadata": {
        "id": "7m_k5IegSZFX"
      },
      "source": [
        "def gs_orthogonalize(A):\n",
        "    epsilon = sys.float_info.epsilon\n",
        "    norm_pos_enc = np.zeros(A.shape)\n",
        "    dimension = A.shape[0]\n",
        "    for i in range(dimension):\n",
        "        if i == 0:\n",
        "            norm_pos_enc[i] = A[i].copy()\n",
        "        else:\n",
        "            #Equate it to the original vector\n",
        "            norm_pos_enc[i] = A[i].copy()\n",
        "\n",
        "            #Repeat for each vector previous to the current vector. Refer to GS process\n",
        "            for j in range(i):\n",
        "                \n",
        "                #https://en.wikipedia.org/wiki/Gram%E2%80%93Schmidt_process\n",
        "                #Projection of v onto u is as follows\n",
        "                #proj_u(v)= (u dot v)/(u dot u)*u\n",
        "\n",
        "                #u is based upon norm_pos_enc and varies with j\n",
        "                u = norm_pos_enc[j:j+1,:].copy()\n",
        "                #If u is zero the definition of the projection is zero\n",
        "                if u.all() == 0:\n",
        "                    #print(\"Projection is zero. Nothing to subtract\")\n",
        "                    continue\n",
        "\n",
        "                #v varies with i\n",
        "                v = A[i].copy()\n",
        "\n",
        "                #obtain the projection\n",
        "                proj_v_to_u = (np.dot(u, v.T)/np.dot(u,u.T))*u\n",
        "\n",
        "                #Subtract the projection\n",
        "                norm_pos_enc[i] = norm_pos_enc[i] - proj_v_to_u\n",
        "\n",
        "\n",
        "\n",
        "            #Force extremely low values to zero\n",
        "            if np.linalg.norm(norm_pos_enc[i]) > 1e-10:\n",
        "                continue\n",
        "            else:\n",
        "                norm_pos_enc[i] = norm_pos_enc[i]*0\n",
        "\n",
        "    return norm_pos_enc\n",
        "\n",
        "def normalize(matrix):\n",
        "    epsilon = sys.float_info.epsilon\n",
        "    normalized_matrix = np.zeros(matrix.shape)\n",
        "    for i in range(matrix.shape[0]):\n",
        "\n",
        "        #Normalize nonzeros. Force to zero those \"nonzero\" due to floating point inaccuracies\n",
        "        if np.linalg.norm(matrix[i]) > 1e-10:\n",
        "            normalized_matrix[i] = matrix[i]/(np.linalg.norm(matrix[i]) + epsilon)\n",
        "        else:\n",
        "            normalized_matrix[i] = matrix[i]*0\n",
        "    return normalized_matrix\n"
      ],
      "execution_count": 10,
      "outputs": []
    },
    {
      "cell_type": "markdown",
      "metadata": {
        "id": "WTZV1eszhjg2"
      },
      "source": [
        "##Plotting and utility functions for visualizing the 16*16 matrix\n"
      ]
    },
    {
      "cell_type": "code",
      "metadata": {
        "id": "0hFsTxehhiLi"
      },
      "source": [
        "def plotmatrix(matrix):\n",
        "\n",
        "    plt.figure(figsize = (5, 4))\n",
        "    plt.pcolormesh(matrix, cmap = 'viridis')\n",
        "    plt.xlabel('Embedding Dimensions')\n",
        "    plt.xlim((0, matrix.shape[0]))\n",
        "    plt.ylim((matrix.shape[1], 0))\n",
        "    plt.ylabel('Position')\n",
        "    plt.colorbar()\n",
        "    plt.show()\n",
        "\n",
        "\n",
        "#https://stackoverflow.com/questions/55663030/plotting-two-heat-maps-side-by-side-in-matplotlib\n",
        "def plotall(matrixlist, titlelist):\n",
        "    plt.figure(figsize = (20, 5))\n",
        "    axlist = []        \n",
        "    for i, zipitem in enumerate(zip(matrixlist, titlelist)):\n",
        "        item, title = zipitem\n",
        "\n",
        "        axlist.append(plt.subplot(1, 3, (i+1)))\n",
        "        axlist[i].set_title(title)\n",
        "        #axlist[i].matshow(item, cmap = 'viridis')\n",
        "        plt.pcolormesh(matrixlist[i], cmap = 'viridis')\n",
        "        plt.xlabel('Embedding Dimensions')\n",
        "        plt.xlim((0, matrixlist[i].shape[0]))\n",
        "        plt.ylim((matrixlist[i].shape[1], 0))\n",
        "        plt.ylabel('Position')\n",
        "        plt.colorbar()\n",
        "    \n",
        "    plt.show()\n"
      ],
      "execution_count": 11,
      "outputs": []
    },
    {
      "cell_type": "markdown",
      "metadata": {
        "id": "JXd_TOI7iV6_"
      },
      "source": [
        "##Visualization for PE_func 1"
      ]
    },
    {
      "cell_type": "code",
      "metadata": {
        "id": "fmL3i9gpiYlV",
        "outputId": "7eba968f-1104-448c-fd20-98be62f27b4a",
        "colab": {
          "base_uri": "https://localhost:8080/",
          "height": 368
        }
      },
      "source": [
        "titles = ['Original PE Matrix', 'Orthogonalized PE Matrix', 'Orthonormalized PE Matrix']\n",
        "pos_enc = pos_encode(PE_func = 1)\n",
        "orthog = gs_orthogonalize(pos_enc)\n",
        "orthon = normalize(orthog)\n",
        "\n",
        "matrixlist = [pos_enc, orthog, orthon]\n",
        "plotall(matrixlist, titles)\n",
        "\n",
        "print(np.linalg.matrix_rank(pos_enc))\n"
      ],
      "execution_count": 12,
      "outputs": [
        {
          "output_type": "display_data",
          "data": {
            "image/png": "[encoded data removed]",
            "text/plain": [
              "<Figure size 1440x360 with 6 Axes>"
            ]
          },
          "metadata": {
            "tags": [],
            "needs_background": "light"
          }
        },
        {
          "output_type": "stream",
          "text": [
            "15\n"
          ],
          "name": "stdout"
        }
      ]
    },
    {
      "cell_type": "markdown",
      "metadata": {
        "id": "dkfLCg4gjdh9"
      },
      "source": [
        "##Positional Encoding Function\n",
        "For my positional encoding function I choose a simple linear spread of frequency\n",
        "\n",
        "PE(pos, dim) = sin(freq\\*pos) for even positions\n",
        "PE(pos, dim) = cos(freq\\*pos) for odd positions\n",
        "\n",
        "My initial frequency was a 8 frequencies linearly spread from (0, 2pi].\n",
        "However this results in there being two sin(pi) columns. The first at the middle where position is equal to 8 and freq is equal to n\\*pi/8. The second is at the end where freq is 2\\*pi.\n",
        "\n",
        "Thus to avoid this, I offset all frequencies by an arbitrary small amount pi/17.\n",
        "\n",
        "Thus the resulting matrix will have a much higher rank.\n",
        "\n",
        "I initially wanted to achieve a full rank basis matrix as basis vectors are usually chosen such that they are linearly independent. However I think that I can not achieve that with a column of constant values. Nor can I remove this column of constant values without leaving out 2pi from my frequencies. I will settle for a rank of 15.\n"
      ]
    },
    {
      "cell_type": "markdown",
      "metadata": {
        "id": "nsTutoGrVWQx"
      },
      "source": [
        "#Assignment Questions\n",
        "\n",
        "2. If 𝐵 is a set of basis vectors, are the vectors orthogonal? Orthonomal? If not, make the basis vectors orthogonal and orthonormal using G-S method.\n",
        "\n",
        "Ans. Do an orthogonal check by taking the dot product of the matrix with its transpose. If all non-diagonal entries are zero, the matrix is orthogonal, as this takes all the combinations of dot products between the rows.\n",
        "https://stackoverflow.com/questions/23503667/how-to-detect-if-all-the-rows-of-a-non-square-matrix-are-orthogonal-in-python"
      ]
    },
    {
      "cell_type": "code",
      "metadata": {
        "id": "AlqosSrKVoo-",
        "outputId": "c382c5fa-bd0f-4e3d-9c6e-70fe4cdc8f1d",
        "colab": {
          "base_uri": "https://localhost:8080/",
          "height": 144
        }
      },
      "source": [
        "matrixlist = [pos_enc, orthog, orthon]\n",
        "titles = ['Original PE Matrix', 'Orthogonalized PE Matrix', 'Orthonormalized PE Matrix']\n",
        "for i, zipitem in enumerate(zip(matrixlist,titles)):\n",
        "    item, title = zipitem\n",
        "    product = np.dot(item, item.T)\n",
        "    np.fill_diagonal(product, 0)\n",
        "    print(title,\":\", product.min(),product.max())\n",
        "\n",
        "for i, zipitem in enumerate(zip(matrixlist,titles)):\n",
        "    \n",
        "    item, titles = zipitem\n",
        "    ave = []\n",
        "    for j in range(item.shape[0]):\n",
        "        ave.append(np.linalg.norm(item[i]))\n",
        "    print(ave)\n"
      ],
      "execution_count": 13,
      "outputs": [
        {
          "output_type": "stream",
          "text": [
            "Original PE Matrix : 0.0 1.932472229404331\n",
            "Orthogonalized PE Matrix : -1.0327724963310994e-15 1.0292251486903762e-15\n",
            "Orthonormalized PE Matrix : -1.6386713902780805e-16 1.9933974684008467e-16\n",
            "[2.8284271247461903, 2.8284271247461903, 2.8284271247461903, 2.8284271247461903, 2.8284271247461903, 2.8284271247461903, 2.8284271247461903, 2.8284271247461903, 2.8284271247461903, 2.8284271247461903, 2.8284271247461903, 2.8284271247461903, 2.8284271247461903, 2.8284271247461903, 2.8284271247461903, 2.8284271247461903]\n",
            "[2.828420718454594, 2.828420718454594, 2.828420718454594, 2.828420718454594, 2.828420718454594, 2.828420718454594, 2.828420718454594, 2.828420718454594, 2.828420718454594, 2.828420718454594, 2.828420718454594, 2.828420718454594, 2.828420718454594, 2.828420718454594, 2.828420718454594, 2.828420718454594]\n",
            "[0.9999999999999999, 0.9999999999999999, 0.9999999999999999, 0.9999999999999999, 0.9999999999999999, 0.9999999999999999, 0.9999999999999999, 0.9999999999999999, 0.9999999999999999, 0.9999999999999999, 0.9999999999999999, 0.9999999999999999, 0.9999999999999999, 0.9999999999999999, 0.9999999999999999, 0.9999999999999999]\n"
          ],
          "name": "stdout"
        }
      ]
    },
    {
      "cell_type": "markdown",
      "metadata": {
        "id": "107_sT1aXVOF"
      },
      "source": [
        "###Orthogonality\n",
        "For the original matrix, the maximum value of the dot product of itself with its transpose (not including the diagonal entries) is ~1.9, thus it is NOT orthogonal.\n",
        "\n",
        "For the GS orthogonalized matrix, the maximum value of the dot product of itself with its transpose (not including the diagonal entries) is sufficiently close to 0 to assure me that the matrix is orthogonal.\n",
        "\n",
        "The same holds true for the GS normalized matrix.\n",
        "\n",
        "###Normalization\n",
        "For the original matrix, the norms of its rows is not 1.\n",
        "\n",
        "For the orthogonalized matrix, the norms of its rows is still not 1.\n",
        "\n",
        "For the orthonormalized matrix, the norms of its rows is finally 1."
      ]
    },
    {
      "cell_type": "markdown",
      "metadata": {
        "id": "X6NcNDIfZWRm"
      },
      "source": [
        "#Deprecated Code\n",
        "Previously used for different PE encodings"
      ]
    },
    {
      "cell_type": "code",
      "metadata": {
        "id": "2u30hSpkILr0",
        "outputId": "a1838b36-af60-4577-dd84-316eff6f6059",
        "colab": {
          "base_uri": "https://localhost:8080/",
          "height": 0
        }
      },
      "source": [
        "##Previous PE_func implementations\n",
        "'''#Code from: https://github.com/jalammar/jalammar.github.io/tree/master/notebookes/transformer\n",
        "#Used for PE_func = 2\n",
        "def get_angles(pos, i, d_model):\n",
        "  angle_rates = 1 / np.power(10000, (2 * (i//2)) / np.float32(d_model))\n",
        "  return pos * angle_rates\n",
        "\n",
        "def positional_encoding(position, d_model):\n",
        "  angle_rads = get_angles(np.arange(position)[:, np.newaxis],\n",
        "                          np.arange(d_model)[np.newaxis, :],\n",
        "                          d_model)\n",
        "  \n",
        "  # apply sin to even indices in the array; 2i\n",
        "  angle_rads[:, 0::2] = np.sin(angle_rads[:, 0::2])\n",
        "  \n",
        "  # apply cos to odd indices in the array; 2i+1\n",
        "  angle_rads[:, 1::2] = np.cos(angle_rads[:, 1::2])\n",
        "    \n",
        "  pos_encoding = angle_rads[np.newaxis, ...]\n",
        "    \n",
        "  return pos_encoding\n",
        "'''\n",
        "'''\n",
        "        PE_func 2: Same positional encoding as reference code and the paper\n",
        "                    it tries to reimplement.\n",
        "                    Code from: https://github.com/jalammar/jalammar.github.io/tree/master/notebookes/transformer\n",
        "        PE_func 3: Same positional encoding as reference code and paper BUT\n",
        "                    the FREQUENCY of cos and sine is made to vary from 0 to 2pi.\n",
        "                    For reference the original PE varies the WAVELENGTHS from\n",
        "                    2pi to 10000*2pi\n",
        "'''\n",
        "'''\n",
        "if PE_func == 2:\n",
        "        angle_rads = get_angles(np.arange(num_positions)[:, np.newaxis],\n",
        "                        np.arange(enc_dimensions)[np.newaxis, :],\n",
        "                        enc_dimensions)\n",
        "  \n",
        "        # apply sin to even indices in the array; 2i\n",
        "        angle_rads[:, 0::2] = np.sin(angle_rads[:, 0::2])\n",
        "\n",
        "        # apply cos to odd indices in the array; 2i+1\n",
        "        angle_rads[:, 1::2] = np.cos(angle_rads[:, 1::2])\n",
        "            \n",
        "        pos_enc_mat = angle_rads\n",
        "            \n",
        "\n",
        "    if PE_func == 3:\n",
        "        \n",
        "        pos_enc_mat = np.zeros((num_positions, enc_dimensions))\n",
        "        freq_exp = np.arange(0, 8 + 8/7, 8/7)\n",
        "        frequencies = (2*pi)**(2*freq_exp/enc_dimensions)\n",
        "        \n",
        "        positions = np.arange(0,16)\n",
        "\n",
        "        for i in range(num_positions):\n",
        "            #for row i using sin for even columns cosine for odd\n",
        "            pos_enc_mat[i, 0::2] = np.sin(frequencies*positions[i])\n",
        "            pos_enc_mat[i, 1::2] = np.cos(frequencies*positions[i])\n",
        "            \n",
        "    return pos_enc_mat\n",
        "'''"
      ],
      "execution_count": 7,
      "outputs": [
        {
          "output_type": "execute_result",
          "data": {
            "application/vnd.google.colaboratory.intrinsic+json": {
              "type": "string"
            },
            "text/plain": [
              "'\\nif PE_func == 2:\\n        angle_rads = get_angles(np.arange(num_positions)[:, np.newaxis],\\n                        np.arange(enc_dimensions)[np.newaxis, :],\\n                        enc_dimensions)\\n  \\n        # apply sin to even indices in the array; 2i\\n        angle_rads[:, 0::2] = np.sin(angle_rads[:, 0::2])\\n\\n        # apply cos to odd indices in the array; 2i+1\\n        angle_rads[:, 1::2] = np.cos(angle_rads[:, 1::2])\\n            \\n        pos_enc_mat = angle_rads\\n            \\n\\n    if PE_func == 3:\\n        \\n        pos_enc_mat = np.zeros((num_positions, enc_dimensions))\\n        freq_exp = np.arange(0, 8 + 8/7, 8/7)\\n        frequencies = (2*pi)**(2*freq_exp/enc_dimensions)\\n        \\n        positions = np.arange(0,16)\\n\\n        for i in range(num_positions):\\n            #for row i using sin for even columns cosine for odd\\n            pos_enc_mat[i, 0::2] = np.sin(frequencies*positions[i])\\n            pos_enc_mat[i, 1::2] = np.cos(frequencies*positions[i])\\n            \\n    return pos_enc_mat\\n'"
            ]
          },
          "metadata": {
            "tags": []
          },
          "execution_count": 7
        }
      ]
    }
  ]
}